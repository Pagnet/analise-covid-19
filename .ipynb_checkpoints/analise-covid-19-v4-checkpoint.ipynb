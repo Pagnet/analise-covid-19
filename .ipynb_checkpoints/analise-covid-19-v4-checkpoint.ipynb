{
 "cells": [
  {
   "cell_type": "code",
   "execution_count": 1,
   "metadata": {
    "ExecuteTime": {
     "end_time": "2020-04-07T18:19:00.432438Z",
     "start_time": "2020-04-07T18:18:59.789364Z"
    }
   },
   "outputs": [],
   "source": [
    "import datetime as dt\n",
    "import itertools\n",
    "import matplotlib.pyplot as plt\n",
    "import numpy as np\n",
    "import pandas as pd\n",
    "import re\n",
    "import seaborn as sns\n",
    "import warnings"
   ]
  },
  {
   "cell_type": "code",
   "execution_count": 2,
   "metadata": {
    "ExecuteTime": {
     "end_time": "2020-04-07T18:19:00.437445Z",
     "start_time": "2020-04-07T18:19:00.434267Z"
    }
   },
   "outputs": [],
   "source": [
    "warnings.filterwarnings('ignore')\n",
    "\n",
    "pd.options.display.max_rows = 300\n",
    "pd.options.display.max_columns = 50"
   ]
  },
  {
   "cell_type": "code",
   "execution_count": 3,
   "metadata": {
    "ExecuteTime": {
     "end_time": "2020-04-07T18:19:09.900347Z",
     "start_time": "2020-04-07T18:19:00.439924Z"
    }
   },
   "outputs": [],
   "source": [
    "df = pd.read_csv('data/cielo.csv', parse_dates=['dia']).sort_values('dia').dropna(axis=0).reset_index(drop=True)\n",
    "df['mes'] = df['dia'].apply(lambda x: x.month)\n",
    "df['dia_da_semana'] = df['dia'].apply(lambda x: x.isoweekday())\n",
    "df['semana'] = df['dia'].apply(lambda x: x.isocalendar()[1])"
   ]
  },
  {
   "cell_type": "code",
   "execution_count": 4,
   "metadata": {
    "ExecuteTime": {
     "end_time": "2020-04-07T18:19:09.960255Z",
     "start_time": "2020-04-07T18:19:09.902965Z"
    }
   },
   "outputs": [],
   "source": [
    "capitais = ['centro',\n",
    "            'rio branco',\n",
    "            'maceió',\n",
    "            'maceio'\n",
    "            'macapá',\n",
    "            'macapa',\n",
    "            'manaus',\n",
    "            'salvador',\n",
    "            'fortaleza',\n",
    "            'brasília',\n",
    "            'brasilia',\n",
    "            'vitória',\n",
    "            'vitoria',\n",
    "            'goiânia',\n",
    "            'goiania',\n",
    "            'são luís',\n",
    "            'sao luis',\n",
    "            'são luis',\n",
    "            'são luiz',\n",
    "            'cuiabá',\n",
    "            'cuiaba',\n",
    "            'campo grande',\n",
    "            'belo horizonte',\n",
    "            '  belo horizonte',\n",
    "            'belém',\n",
    "            'belem',\n",
    "            'joão pessoa',\n",
    "            'joao pessoa',\n",
    "            'curitiba',\n",
    "            'curitiba ',\n",
    "            'recife',\n",
    "            'teresina',\n",
    "            'rio de janeiro',\n",
    "            'rio  de janeiro',\n",
    "            'rio de jeneiro',\n",
    "            'rj',\n",
    "            'natal',\n",
    "            'porto alegre',\n",
    "            'porto velho',\n",
    "            'boa vista',\n",
    "            'florianópolis',\n",
    "            'florianopolis',\n",
    "            'são paulo',\n",
    "            'sao paulo',\n",
    "            'sao paulo ',\n",
    "            'são paulo ',\n",
    "            'aracaju',\n",
    "            'palmas']\n",
    "\n",
    "df['capital'] = df['cidade'].isin(capitais)"
   ]
  },
  {
   "cell_type": "code",
   "execution_count": 5,
   "metadata": {
    "ExecuteTime": {
     "end_time": "2020-04-07T18:19:10.002816Z",
     "start_time": "2020-04-07T18:19:09.964002Z"
    }
   },
   "outputs": [],
   "source": [
    "map_dept = {6: 'VESTUÁRIO',\n",
    "            8: 'CALÇADOS / BOLSAS / MALAS',\n",
    "            9: 'CAMA / MESA / BANHO / UTILIDADES DOMÉSTICAS',\n",
    "            25: 'ARTIGOS',\n",
    "            36: 'ÓTICA',\n",
    "            45: 'MÓVEIS'}\n",
    "\n",
    "df['dept_cat'] = df['department_id'].map(map_dept)"
   ]
  },
  {
   "cell_type": "code",
   "execution_count": 6,
   "metadata": {
    "ExecuteTime": {
     "end_time": "2020-04-07T18:19:10.101599Z",
     "start_time": "2020-04-07T18:19:10.005052Z"
    }
   },
   "outputs": [],
   "source": [
    "fev = (df['dia'] >= '2020-02-02') & (df['dia'] <= '2020-02-03')\n",
    "mar = (df['dia'] >= '2020-03-01') & (df['dia'] <= '2020-03-02')\n",
    "abr = (df['dia'] >= '2020-04-05') & (df['dia'] <= '2020-04-06')\n",
    "df = df[fev | mar | abr]"
   ]
  },
  {
   "cell_type": "markdown",
   "metadata": {},
   "source": [
    "# Brasil"
   ]
  },
  {
   "cell_type": "code",
   "execution_count": 7,
   "metadata": {
    "ExecuteTime": {
     "end_time": "2020-04-07T18:19:10.143886Z",
     "start_time": "2020-04-07T18:19:10.104599Z"
    },
    "scrolled": false
   },
   "outputs": [],
   "source": [
    "df_brasil = pd.DataFrame(df.groupby('dia')['tot_venda'].sum()).reset_index()\n",
    "\n",
    "df_brasil['mes'] = df_brasil['dia'].apply(lambda x: x.month)\n",
    "df_brasil['dia_da_semana'] = df_brasil['dia'].apply(lambda x: x.isoweekday())\n",
    "df_brasil['semana'] = df_brasil['dia'].apply(lambda x: x.isocalendar()[1])\n",
    "\n",
    "dia_da_semana_dict = {1: 'S', 2: 'T', 3: 'Q', 4: 'Q', 5: 'S', 6: 'S', 7: 'D'}\n",
    "df_brasil['dia_da_semana'] = df_brasil['dia_da_semana'].map(dia_da_semana_dict)\n",
    "\n",
    "df_brasil.loc[df_brasil['mes'] == 2, 'semana'] -= 4\n",
    "df_brasil.loc[df_brasil['mes'] == 3, 'semana'] -= 8\n",
    "df_brasil.loc[df_brasil['mes'] == 4, 'semana'] -= 12\n",
    "\n",
    "df_brasil['semana_mod'] = np.tile(np.append(df_brasil.loc[df_brasil['mes'] == 2, 'semana'].values[1:], 2), 3) - 1\n",
    "\n",
    "df_diff = df_brasil.groupby(['mes', 'semana_mod'])['tot_venda'].sum().reset_index()"
   ]
  },
  {
   "cell_type": "code",
   "execution_count": 8,
   "metadata": {
    "ExecuteTime": {
     "end_time": "2020-04-07T18:19:10.149692Z",
     "start_time": "2020-04-07T18:19:10.146822Z"
    }
   },
   "outputs": [],
   "source": [
    "# df_temp_jan = df_brasil[df_brasil['mes'] == 1]\n",
    "# df_temp_jan2 = pd.concat([df_temp_jan.iloc[1:], df_temp_jan.iloc[:8]]).reset_index(drop=True)\n",
    "# df_temp_fev = df_brasil[df_brasil['mes'] == 2].reset_index(drop=True)\n",
    "# df_temp_fev2 = pd.concat([df_temp_fev, df_temp_fev.iloc[:7]]).reset_index(drop=True)\n",
    "# df_temp_mar = df_brasil[(df_brasil['dia'] >= '2020-03-01') & (df_brasil['dia'] <= '2020-04-04')].reset_index(drop=True)\n",
    "\n",
    "# df_brasil = pd.concat([df_temp_jan2, df_temp_fev2, df_temp_mar]).reset_index(drop=True)\n",
    "# df_brasil['semana_mod'] = np.tile(np.append(df_brasil.loc[df_brasil['mes'] == 3, 'semana'].values[1:], 5*[6]), 3) - 1\n",
    "# df_brasil.loc[df_brasil['mes'] == 4, 'mes'] = 3\n",
    "\n",
    "# df_diff = df_brasil.groupby(['mes', 'semana_mod'])['tot_venda'].sum().reset_index()"
   ]
  },
  {
   "cell_type": "code",
   "execution_count": 9,
   "metadata": {
    "ExecuteTime": {
     "end_time": "2020-04-07T18:19:10.166549Z",
     "start_time": "2020-04-07T18:19:10.152892Z"
    }
   },
   "outputs": [],
   "source": [
    "# df_brasil"
   ]
  },
  {
   "cell_type": "code",
   "execution_count": 10,
   "metadata": {
    "ExecuteTime": {
     "end_time": "2020-04-07T18:19:10.190098Z",
     "start_time": "2020-04-07T18:19:10.168655Z"
    }
   },
   "outputs": [],
   "source": [
    "# df_diff"
   ]
  },
  {
   "cell_type": "code",
   "execution_count": 11,
   "metadata": {
    "ExecuteTime": {
     "end_time": "2020-04-07T18:19:10.210042Z",
     "start_time": "2020-04-07T18:19:10.191709Z"
    }
   },
   "outputs": [],
   "source": [
    "diff = {}\n",
    "delta_abr_fev_1 = df_diff.loc[2, 'tot_venda'] / df_diff.loc[0, 'tot_venda']\n",
    "diff['abr_fev_1'] = \\\n",
    "str(round(100 * (delta_abr_fev_1 - 1), 2)).replace('.', ',') + '%'\n",
    "# delta_abr_fev_2 = df_diff.loc[11, 'tot_venda'] / df_diff.loc[1, 'tot_venda']\n",
    "# diff['abr_fev_2'] = \\\n",
    "# str(round(100 * (delta_abr_fev_2 - 1), 2)).replace('.', ',') + '%'\n",
    "# delta_abr_fev_3 = df_diff.loc[12, 'tot_venda'] / df_diff.loc[2, 'tot_venda']\n",
    "# diff['abr_fev_3'] = \\\n",
    "# str(round(100 * (delta_abr_fev_3 - 1), 2)).replace('.', ',') + '%'\n",
    "# delta_abr_fev_4 = df_diff.loc[13, 'tot_venda'] / df_diff.loc[3, 'tot_venda']\n",
    "# diff['abr_fev_4'] = \\\n",
    "# str(round(100 * (delta_abr_fev_4 - 1), 2)).replace('.', ',') + '%'\n",
    "# delta_abr_fev_5 = df_diff.loc[14, 'tot_venda'] / df_diff.loc[4, 'tot_venda']\n",
    "# diff['abr_fev_5'] = \\\n",
    "# str(round(100 * (delta_abr_fev_5 - 1), 2)).replace('.', ',') + '%'\n",
    "\n",
    "\n",
    "delta_abr_mar_1 = df_diff.loc[2, 'tot_venda'] / df_diff.loc[1, 'tot_venda']\n",
    "diff['abr_mar_1'] = \\\n",
    "str(round(100 * (delta_abr_mar_1 - 1), 2)).replace('.', ',') + '%'\n",
    "# delta_abr_mar_2 = df_diff.loc[11, 'tot_venda'] / df_diff.loc[6, 'tot_venda']\n",
    "# diff['abr_mar_2'] = \\\n",
    "# str(round(100 * (delta_abr_mar_2 - 1), 2)).replace('.', ',') + '%'\n",
    "# delta_abr_mar_3 = df_diff.loc[12, 'tot_venda'] / df_diff.loc[7, 'tot_venda']\n",
    "# diff['abr_mar_3'] = \\\n",
    "# str(round(100 * (delta_abr_mar_3 - 1), 2)).replace('.', ',') + '%'\n",
    "# delta_abr_mar_4 = df_diff.loc[13, 'tot_venda'] / df_diff.loc[8, 'tot_venda']\n",
    "# diff['abr_mar_4'] = \\\n",
    "# str(round(100 * (delta_abr_mar_4 - 1), 2)).replace('.', ',') + '%'\n",
    "# delta_abr_mar_5 = df_diff.loc[14, 'tot_venda'] / df_diff.loc[9, 'tot_venda']\n",
    "# diff['abr_mar_5'] = \\\n",
    "# str(round(100 * (delta_abr_mar_5 - 1), 2)).replace('.', ',') + '%'"
   ]
  },
  {
   "cell_type": "code",
   "execution_count": 12,
   "metadata": {
    "ExecuteTime": {
     "end_time": "2020-04-07T18:19:10.233969Z",
     "start_time": "2020-04-07T18:19:10.214362Z"
    }
   },
   "outputs": [],
   "source": [
    "# diff"
   ]
  },
  {
   "cell_type": "code",
   "execution_count": 13,
   "metadata": {
    "ExecuteTime": {
     "end_time": "2020-04-07T18:19:10.555773Z",
     "start_time": "2020-04-07T18:19:10.237000Z"
    },
    "scrolled": false
   },
   "outputs": [
    {
     "data": {
      "image/png": "[encoded data removed]",
      "text/plain": [
       "<Figure size 1440x288 with 1 Axes>"
      ]
     },
     "metadata": {
      "needs_background": "light"
     },
     "output_type": "display_data"
    }
   ],
   "source": [
    "df_brasil_fev = df_brasil[df_brasil['mes'] == 2].reset_index(drop=True)\n",
    "df_brasil_mar = df_brasil[df_brasil['mes'] == 3].reset_index(drop=True)\n",
    "df_brasil_abr = df_brasil[df_brasil['mes'] == 4].reset_index(drop=True)\n",
    "\n",
    "n_dias = len(df_brasil_fev)\n",
    "\n",
    "fig, ax = plt.subplots(figsize=(20, 4))\n",
    "\n",
    "sns.lineplot(x=range(n_dias), y='tot_venda', data=df_brasil_fev, color='0.6', lw=3, ax=ax)\n",
    "sns.lineplot(x=range(n_dias), y='tot_venda', data=df_brasil_mar, color='0.4', lw=3, ax=ax)\n",
    "sns.lineplot(x=range(n_dias), y='tot_venda', data=df_brasil_abr, lw=3, ax=ax)\n",
    "\n",
    "y_max = ax.get_ylim()[1]\n",
    "\n",
    "ax.set_xlim(-0.5, n_dias)\n",
    "ax.set_xticks(range(n_dias))\n",
    "ax.set_xticklabels(df_brasil_fev['dia_da_semana'])\n",
    "\n",
    "# ax.axvline(6.5, ymin=0, ymax=200, color='0', ls=':')\n",
    "# ax.axvline(13.5, ymin=0, ymax=200, color='0', ls=':')\n",
    "# ax.axvline(20.5, ymin=0, ymax=200, color='0', ls=':')\n",
    "# ax.axvline(27.5, ymin=0, ymax=200, color='0', ls=':')\n",
    "\n",
    "ax.spines['right'].set_visible(False)\n",
    "ax.spines['top'].set_visible(False)\n",
    "\n",
    "ax.text(0, y_max + 2 * 10**6, '1ª semana', size=15)\n",
    "ax.text(0, y_max + 10**6, '\\u0394(abr-fev) = {}'.format(diff['abr_fev_1']), size=15, color='red')\n",
    "ax.text(0, y_max, '\\u0394(abr-mar) = {}'.format(diff['abr_mar_1']), size=15, color='red')\n",
    "# ax.text(7, y_max + 2 * 10**6, '2ª semana', size=15)\n",
    "# ax.text(7, y_max + 10**6, '\\u0394(abr-fev) = {}'.format(diff['abr_fev_2']), size=15, color='green')\n",
    "# ax.text(7, y_max, '\\u0394(abr-mar) = {}'.format(diff['abr_mar_2']), size=15, color='green')\n",
    "# ax.text(14, y_max + 2 * 10**6, '3ª semana', size=15)\n",
    "# ax.text(14, y_max + 10**6, '\\u0394(abr-fev) = {}'.format(diff['abr_fev_3']), size=15, color='red')\n",
    "# ax.text(14, y_max, '\\u0394(abr-mar) = {}'.format(diff['abr_mar_3']), size=15, color='red')\n",
    "# ax.text(21, y_max + 2 * 10**6, '4ª semana', size=15)\n",
    "# ax.text(21, y_max + 10**6, '\\u0394(abr-fev) = {}'.format(diff['abr_fev_4']), size=15, color='red')\n",
    "# ax.text(21, y_max, '\\u0394(abr-mar) = {}'.format(diff['abr_mar_4']), size=15, color='red')\n",
    "# ax.text(28, y_max + 2 * 10**6, '5ª semana', size=15)\n",
    "# ax.text(28, y_max + 10**6, '\\u0394(abr-fev) = {}'.format(diff['abr_fev_5']), size=15, color='red')\n",
    "# ax.text(28, y_max, '\\u0394(abr-mar) = {}'.format(diff['abr_mar_5']), size=15, color='red')\n",
    "\n",
    "ax.set_ylabel('VENDAS TOTAIS', size=12)\n",
    "\n",
    "ax.annotate('Fev/20', (n_dias-0.9, df_brasil_fev.loc[n_dias-1, 'tot_venda']), size=12)\n",
    "ax.annotate('Mar/20', (n_dias-0.9, df_brasil_mar.loc[n_dias-1, 'tot_venda']), size=12)\n",
    "ax.annotate('Abr/20', (n_dias-0.9, df_brasil_abr.loc[n_dias-1, 'tot_venda']), size=12)\n",
    "\n",
    "plt.savefig('imagens/brasil.png');"
   ]
  },
  {
   "cell_type": "markdown",
   "metadata": {},
   "source": [
    "## Por Departamentos"
   ]
  },
  {
   "cell_type": "code",
   "execution_count": 14,
   "metadata": {
    "ExecuteTime": {
     "end_time": "2020-04-07T18:19:10.642723Z",
     "start_time": "2020-04-07T18:19:10.557847Z"
    }
   },
   "outputs": [],
   "source": [
    "df_brasil_dept = pd.DataFrame(df.groupby(['department_id', 'dia'])['tot_venda'].sum()).reset_index()\n",
    "\n",
    "df_brasil_dept['mes'] = df_brasil_dept['dia'].apply(lambda x: x.month)\n",
    "df_brasil_dept['dia_da_semana'] = df_brasil_dept['dia'].apply(lambda x: x.isoweekday())\n",
    "df_brasil_dept['semana'] = df_brasil_dept['dia'].apply(lambda x: x.isocalendar()[1])\n",
    "\n",
    "df_brasil_dept_dict = {6: df_brasil_dept[df_brasil_dept['department_id'] == 6],\n",
    "                       8: df_brasil_dept[df_brasil_dept['department_id'] == 8].reset_index(drop=True),\n",
    "                       9: df_brasil_dept[df_brasil_dept['department_id'] == 9].reset_index(drop=True),\n",
    "                       25: df_brasil_dept[df_brasil_dept['department_id'] == 25].reset_index(drop=True),\n",
    "                       36: df_brasil_dept[df_brasil_dept['department_id'] == 36].reset_index(drop=True),\n",
    "                       45: df_brasil_dept[df_brasil_dept['department_id'] == 45].reset_index(drop=True)}\n",
    "\n",
    "# # departamento 6 sem dados para o dia 2020-03-29; imputando tot_venda com 0\n",
    "# df_before = df_brasil_dept_dict[6][df_brasil_dept_dict[6]['dia'] < '2020-03-22']\n",
    "# df_after = df_brasil_dept_dict[6][df_brasil_dept_dict[6]['dia'] > '2020-03-22']\n",
    "# day_missing = dt.datetime(2020, 3, 22)\n",
    "# df_before = df_before.append({'department_id': 6,\n",
    "#                               'dia': day_missing,\n",
    "#                               'tot_venda': 0,\n",
    "#                               'mes': day_missing.month,\n",
    "#                               'dia_da_semana': day_missing.isoweekday(),\n",
    "#                               'semana': day_missing.isocalendar()[1]}, ignore_index=True)\n",
    "# df_brasil_dept_dict[6] = pd.concat([df_before, df_after], axis=0)\n",
    "\n",
    "# # departamento 8 sem dados para o dia 2020-03-29; imputando tot_venda com 0\n",
    "# df_before = df_brasil_dept_dict[8][df_brasil_dept_dict[8]['dia'] < '2020-03-29']\n",
    "# df_after = df_brasil_dept_dict[8][df_brasil_dept_dict[8]['dia'] > '2020-03-29']\n",
    "# day_missing = dt.datetime(2020, 3, 29)\n",
    "# df_before = df_before.append({'department_id': 8,\n",
    "#                               'dia': day_missing,\n",
    "#                               'tot_venda': 0,\n",
    "#                               'mes': day_missing.month,\n",
    "#                               'dia_da_semana': day_missing.isoweekday(),\n",
    "#                               'semana': day_missing.isocalendar()[1]}, ignore_index=True)\n",
    "# df_brasil_dept_dict[8] = pd.concat([df_before, df_after], axis=0)\n",
    "\n",
    "df_diff = {}\n",
    "for d in [6, 8, 9, 25, 36, 45]:\n",
    "    df_brasil_dept_dict[d]['dia_da_semana'] = df_brasil_dept_dict[d]['dia_da_semana'].map(dia_da_semana_dict)\n",
    "\n",
    "    df_brasil_dept_dict[d].loc[df_brasil_dept_dict[d]['mes'] == 2, 'semana'] -= 4\n",
    "    df_brasil_dept_dict[d].loc[df_brasil_dept_dict[d]['mes'] == 3, 'semana'] -= 8\n",
    "    df_brasil_dept_dict[d].loc[df_brasil_dept_dict[d]['mes'] == 4, 'semana'] -= 12\n",
    "    \n",
    "#     df_temp_jan = df_brasil_dept_dict[d][df_brasil_dept_dict[d]['mes'] == 1]\n",
    "#     df_temp_jan2 = pd.concat([df_temp_jan.iloc[1:], df_temp_jan.iloc[:8]]).reset_index(drop=True)\n",
    "#     df_temp_fev = df_brasil_dept_dict[d][df_brasil_dept_dict[d]['mes'] == 2].reset_index(drop=True)\n",
    "#     df_temp_fev2 = pd.concat([df_temp_fev, df_temp_fev.iloc[:7]]).reset_index(drop=True)\n",
    "#     df_temp_mar = (df_brasil_dept_dict[d][(df_brasil_dept_dict[d]['dia'] >= '2020-03-01') &\n",
    "#                                           (df_brasil_dept_dict[d]['dia'] <= '2020-04-04')].reset_index(drop=True))\n",
    "    \n",
    "#     df_brasil_dept_dict[d] = pd.concat([df_temp_jan2, df_temp_fev2, df_temp_mar]).reset_index(drop=True)\n",
    "\n",
    "    df_brasil_dept_dict[d]['semana_mod'] = \\\n",
    "    np.tile(np.append(df_brasil_dept_dict[d].loc[df_brasil_dept_dict[d]['mes'] == 2, 'semana'].values[1:], 2), 3) - 1\n",
    "    \n",
    "#     df_brasil_dept_dict[d]['semana_mod'] = \\\n",
    "#     np.tile(np.append(df_brasil_dept_dict[d].loc[df_brasil_dept_dict[d]['mes'] == 3, 'semana'].values[1:], 5*[6]), 3) - 1\n",
    "#     df_brasil_dept_dict[d].loc[df_brasil_dept_dict[d]['mes'] == 4, 'mes'] = 3\n",
    "    \n",
    "    df_diff[d] = df_brasil_dept_dict[d].groupby(['mes', 'semana_mod'])['tot_venda'].sum().reset_index()"
   ]
  },
  {
   "cell_type": "code",
   "execution_count": 15,
   "metadata": {
    "ExecuteTime": {
     "end_time": "2020-04-07T18:19:10.647296Z",
     "start_time": "2020-04-07T18:19:10.644453Z"
    }
   },
   "outputs": [],
   "source": [
    "# df_brasil_dept_dict"
   ]
  },
  {
   "cell_type": "code",
   "execution_count": 16,
   "metadata": {
    "ExecuteTime": {
     "end_time": "2020-04-07T18:19:10.666163Z",
     "start_time": "2020-04-07T18:19:10.649445Z"
    }
   },
   "outputs": [],
   "source": [
    "diff = {}\n",
    "for d in [6, 8, 9, 25, 36, 45]:\n",
    "    diff[d] = {}\n",
    "    \n",
    "    diff[d]['abr_fev_1'] = \\\n",
    "    str(round(100 * (df_diff[d].loc[2, 'tot_venda'] / df_diff[d].loc[0, 'tot_venda'] - 1), 2)).replace('.', ',') + '%'\n",
    "#     diff[d]['abr_fev_2'] = \\\n",
    "#     str(round(100 * (df_diff[d].loc[11, 'tot_venda'] / df_diff[d].loc[1, 'tot_venda'] - 1), 2)).replace('.', ',') + '%'\n",
    "#     diff[d]['abr_fev_3'] = \\\n",
    "#     str(round(100 * (df_diff[d].loc[12, 'tot_venda'] / df_diff[d].loc[2, 'tot_venda'] - 1), 2)).replace('.', ',') + '%'\n",
    "#     diff[d]['abr_fev_4'] = \\\n",
    "#     str(round(100 * (df_diff[d].loc[13, 'tot_venda'] / df_diff[d].loc[3, 'tot_venda'] - 1), 2)).replace('.', ',') + '%'\n",
    "#     diff[d]['abr_fev_5'] = \\\n",
    "#     str(round(100 * (df_diff[d].loc[14, 'tot_venda'] / df_diff[d].loc[4, 'tot_venda'] - 1), 2)).replace('.', ',') + '%'\n",
    "\n",
    "    diff[d]['abr_mar_1'] = \\\n",
    "    str(round(100 * (df_diff[d].loc[2, 'tot_venda'] / df_diff[d].loc[1, 'tot_venda'] - 1), 2)).replace('.', ',') + '%'\n",
    "#     diff[d]['abr_mar_2'] = \\\n",
    "#     str(round(100 * (df_diff[d].loc[11, 'tot_venda'] / df_diff[d].loc[6, 'tot_venda'] - 1), 2)).replace('.', ',') + '%'\n",
    "#     diff[d]['abr_mar_3'] = \\\n",
    "#     str(round(100 * (df_diff[d].loc[12, 'tot_venda'] / df_diff[d].loc[7, 'tot_venda'] - 1), 2)).replace('.', ',') + '%'\n",
    "#     diff[d]['abr_mar_4'] = \\\n",
    "#     str(round(100 * (df_diff[d].loc[13, 'tot_venda'] / df_diff[d].loc[8, 'tot_venda'] - 1), 2)).replace('.', ',') + '%'\n",
    "#     diff[d]['abr_mar_5'] = \\\n",
    "#     str(round(100 * (df_diff[d].loc[14, 'tot_venda'] / df_diff[d].loc[9, 'tot_venda'] - 1), 2)).replace('.', ',') + '%'"
   ]
  },
  {
   "cell_type": "code",
   "execution_count": 17,
   "metadata": {
    "ExecuteTime": {
     "end_time": "2020-04-07T18:19:10.689341Z",
     "start_time": "2020-04-07T18:19:10.668453Z"
    }
   },
   "outputs": [],
   "source": [
    "# diff"
   ]
  },
  {
   "cell_type": "code",
   "execution_count": 18,
   "metadata": {
    "ExecuteTime": {
     "end_time": "2020-04-07T18:19:12.165494Z",
     "start_time": "2020-04-07T18:19:10.691000Z"
    },
    "scrolled": true
   },
   "outputs": [
    {
     "data": {
      "image/png": "[encoded data removed]",
      "text/plain": [
       "<Figure size 2160x576 with 6 Axes>"
      ]
     },
     "metadata": {
      "needs_background": "light"
     },
     "output_type": "display_data"
    }
   ],
   "source": [
    "fig, ax = plt.subplots(2, 3, figsize=(30, 8))\n",
    "loc = [(0, 0), (0, 1), (0, 2),\n",
    "       (1, 0), (1, 1), (1, 2)]\n",
    "\n",
    "for i, d in enumerate([6, 8, 9, 25, 36, 45]):\n",
    "    df_brasil_fev = df_brasil_dept_dict[d][df_brasil_dept_dict[d]['mes'] == 2].reset_index(drop=True)\n",
    "    df_brasil_mar = df_brasil_dept_dict[d][df_brasil_dept_dict[d]['mes'] == 3].reset_index(drop=True)\n",
    "    df_brasil_abr = df_brasil_dept_dict[d][df_brasil_dept_dict[d]['mes'] == 4].reset_index(drop=True)\n",
    "\n",
    "    sns.lineplot(x=range(n_dias), y='tot_venda', data=df_brasil_fev, color='0.6', lw=3, ax=ax[loc[i]])\n",
    "    sns.lineplot(x=range(n_dias), y='tot_venda', data=df_brasil_mar, color='0.4', lw=3, ax=ax[loc[i]])\n",
    "    sns.lineplot(x=range(n_dias), y='tot_venda', data=df_brasil_abr, lw=3, ax=ax[loc[i]])\n",
    "\n",
    "    ax[loc[i]].set_title(map_dept[d], pad=20)\n",
    "    ax[loc[i]].set_xlim(-0.5, n_dias)\n",
    "    ax[loc[i]].set_xticks(range(n_dias))\n",
    "    ax[loc[i]].set_xticklabels(df_brasil_fev['dia_da_semana'])\n",
    "#     ax[loc[i]].axvline(6.5, ymin=0, ymax=200, color='0', ls=':')\n",
    "#     ax[loc[i]].axvline(13.5, ymin=0, ymax=200, color='0', ls=':')\n",
    "#     ax[loc[i]].axvline(20.5, ymin=0, ymax=200, color='0', ls=':')\n",
    "#     ax[loc[i]].axvline(27.5, ymin=0, ymax=200, color='0', ls=':')\n",
    "    ax[loc[i]].spines['right'].set_visible(False)\n",
    "    ax[loc[i]].spines['top'].set_visible(False)\n",
    "    if i in [0, 3]:\n",
    "        ax[loc[i]].set_ylabel('VENDAS TOTAIS', size=12)\n",
    "    else:\n",
    "        ax[loc[i]].set_ylabel('')\n",
    "    ax[loc[i]].annotate('F/20', (n_dias-0.9, df_brasil_fev.loc[n_dias-1, 'tot_venda']), size=12)\n",
    "    ax[loc[i]].annotate('M/20', (n_dias-0.9, df_brasil_mar.loc[n_dias-1, 'tot_venda']), size=12)\n",
    "    ax[loc[i]].annotate('A/20', (n_dias-0.9, df_brasil_abr.loc[n_dias-1, 'tot_venda']), size=12)\n",
    "    \n",
    "y_max = ax[loc[0]].get_ylim()[1]\n",
    "# ax[loc[0]].text(15, 2000, '3ª semana', size=12)\n",
    "# ax[loc[0]].text(15, 2000-150, '\\u0394(M-J) = {}'.format(diff[6]['abr_fev_3']), color='red', size=12)\n",
    "ax[loc[0]].text(0, y_max, '\\u0394(A-M) = {}'.format(diff[6]['abr_mar_1']), color='red', size=12)\n",
    "\n",
    "y_max = ax[loc[1]].get_ylim()[1]\n",
    "# ax[loc[1]].text(15, 3000, '3ª semana', size=12)\n",
    "# ax[loc[1]].text(15, 3000-200, '\\u0394(M-J) = {}'.format(diff[8]['abr_fev_3']), color='red', size=12)\n",
    "ax[loc[1]].text(0, y_max, '\\u0394(A-M) = {}'.format(diff[8]['abr_mar_1']), color='red', size=12)\n",
    "\n",
    "y_max = ax[loc[2]].get_ylim()[1]\n",
    "# ax[loc[2]].text(15, 4000, '3ª semana', size=12)\n",
    "# ax[loc[2]].text(15, 4000-250, '\\u0394(M-J) = {}'.format(diff[9]['abr_fev_3']), color='red', size=12)\n",
    "ax[loc[2]].text(0, y_max, '\\u0394(A-M) = {}'.format(diff[9]['abr_mar_1']), color='red', size=12)\n",
    "\n",
    "y_max = ax[loc[3]].get_ylim()[1]\n",
    "# ax[loc[3]].text(15, 14000, '3ª semana', size=12)\n",
    "# ax[loc[3]].text(15, 14000-1250, '\\u0394(M-J) = {}'.format(diff[25]['abr_fev_3']), color='red', size=12)\n",
    "ax[loc[3]].text(0, y_max, '\\u0394(A-M) = {}'.format(diff[25]['abr_mar_1']), color='green', size=12)\n",
    "\n",
    "y_max = ax[loc[4]].get_ylim()[1]\n",
    "# ax[loc[4]].text(15, 3500, '3ª semana', size=12)\n",
    "# ax[loc[4]].text(15, 3500-225, '\\u0394(M-J) = {}'.format(diff[36]['abr_fev_3']), color='red', size=12)\n",
    "ax[loc[4]].text(0, y_max, '\\u0394(A-M) = {}'.format(diff[36]['abr_mar_1']), color='red', size=12)\n",
    "\n",
    "y_max = ax[loc[5]].get_ylim()[1]\n",
    "# ax[loc[5]].text(15, 4000, '3ª semana', size=12)\n",
    "# ax[loc[5]].text(15, 4000-250, '\\u0394(M-J) = {}'.format(diff[45]['abr_fev_3']), color='red', size=12)\n",
    "ax[loc[5]].text(0, y_max, '\\u0394(A-M) = {}'.format(diff[45]['abr_mar_1']), color='red', size=12)\n",
    "\n",
    "plt.subplots_adjust(wspace=0.3, hspace=0.4);\n",
    "plt.savefig('imagens/brasil_dept_{}.png'.format(d));"
   ]
  },
  {
   "cell_type": "markdown",
   "metadata": {},
   "source": [
    "# Capitais"
   ]
  },
  {
   "cell_type": "code",
   "execution_count": 19,
   "metadata": {
    "ExecuteTime": {
     "end_time": "2020-04-07T18:19:12.194071Z",
     "start_time": "2020-04-07T18:19:12.167459Z"
    }
   },
   "outputs": [],
   "source": [
    "df_capitais = pd.DataFrame(df[df['capital'] == True].groupby('dia')['tot_venda'].sum()).reset_index()\n",
    "\n",
    "df_capitais['mes'] = df_capitais['dia'].apply(lambda x: x.month)\n",
    "df_capitais['dia_da_semana'] = df_capitais['dia'].apply(lambda x: x.isoweekday())\n",
    "df_capitais['semana'] = df_capitais['dia'].apply(lambda x: x.isocalendar()[1])\n",
    "\n",
    "df_capitais['dia_da_semana'] = df_capitais['dia_da_semana'].map(dia_da_semana_dict)\n",
    "\n",
    "df_capitais.loc[df_capitais['mes'] == 2, 'semana'] -= 4\n",
    "df_capitais.loc[df_capitais['mes'] == 3, 'semana'] -= 8\n",
    "df_capitais.loc[df_capitais['mes'] == 4, 'semana'] -= 12\n",
    "\n",
    "df_capitais['semana_mod'] = np.tile(np.append(df_capitais.loc[df_capitais['mes'] == 2, 'semana'].values[1:], 2), 3) - 1\n",
    "\n",
    "df_diff = df_capitais.groupby(['mes', 'semana_mod'])['tot_venda'].sum().reset_index()"
   ]
  },
  {
   "cell_type": "code",
   "execution_count": 20,
   "metadata": {
    "ExecuteTime": {
     "end_time": "2020-04-07T18:19:12.207124Z",
     "start_time": "2020-04-07T18:19:12.195714Z"
    }
   },
   "outputs": [],
   "source": [
    "# df_temp_jan = df_capitais[df_capitais['mes'] == 1]\n",
    "# df_temp_jan2 = pd.concat([df_temp_jan.iloc[1:], df_temp_jan.iloc[:8]]).reset_index(drop=True)\n",
    "# df_temp_fev = df_capitais[df_capitais['mes'] == 2].reset_index(drop=True)\n",
    "# df_temp_fev2 = pd.concat([df_temp_fev, df_temp_fev.iloc[:7]]).reset_index(drop=True)\n",
    "# df_temp_mar = df_capitais[(df_capitais['dia'] >= '2020-03-01') & (df_capitais['dia'] <= '2020-04-04')].reset_index(drop=True)\n",
    "\n",
    "# df_capitais = pd.concat([df_temp_jan2, df_temp_fev2, df_temp_mar]).reset_index(drop=True)\n",
    "# df_capitais['semana_mod'] = np.tile(np.append(df_capitais.loc[df_capitais['mes'] == 3, 'semana'].values[1:], 5*[6]), 3) - 1\n",
    "# df_capitais.loc[df_capitais['mes'] == 4, 'mes'] = 3\n",
    "\n",
    "# df_diff = df_capitais.groupby(['mes', 'semana_mod'])['tot_venda'].sum().reset_index()"
   ]
  },
  {
   "cell_type": "code",
   "execution_count": 21,
   "metadata": {
    "ExecuteTime": {
     "end_time": "2020-04-07T18:19:12.230907Z",
     "start_time": "2020-04-07T18:19:12.210318Z"
    }
   },
   "outputs": [],
   "source": [
    "# df_capitais"
   ]
  },
  {
   "cell_type": "code",
   "execution_count": 22,
   "metadata": {
    "ExecuteTime": {
     "end_time": "2020-04-07T18:19:12.256373Z",
     "start_time": "2020-04-07T18:19:12.232612Z"
    }
   },
   "outputs": [],
   "source": [
    "# df_diff"
   ]
  },
  {
   "cell_type": "code",
   "execution_count": 23,
   "metadata": {
    "ExecuteTime": {
     "end_time": "2020-04-07T18:19:12.282835Z",
     "start_time": "2020-04-07T18:19:12.260054Z"
    }
   },
   "outputs": [],
   "source": [
    "diff = {}\n",
    "diff['abr_fev_1'] = \\\n",
    "str(round(100 * (df_diff.loc[2, 'tot_venda'] / df_diff.loc[0, 'tot_venda'] - 1), 2)).replace('.', ',') + '%'\n",
    "# diff['abr_fev_2'] = \\\n",
    "# str(round(100 * (df_diff.loc[11, 'tot_venda'] / df_diff.loc[1, 'tot_venda'] - 1), 2)).replace('.', ',') + '%'\n",
    "# diff['abr_fev_3'] = \\\n",
    "# str(round(100 * (df_diff.loc[12, 'tot_venda'] / df_diff.loc[2, 'tot_venda'] - 1), 2)).replace('.', ',') + '%'\n",
    "# diff['abr_fev_4'] = \\\n",
    "# str(round(100 * (df_diff.loc[13, 'tot_venda'] / df_diff.loc[3, 'tot_venda'] - 1), 2)).replace('.', ',') + '%'\n",
    "# diff['abr_fev_5'] = \\\n",
    "# str(round(100 * (df_diff.loc[14, 'tot_venda'] / df_diff.loc[4, 'tot_venda'] - 1), 2)).replace('.', ',') + '%'\n",
    "\n",
    "diff['abr_mar_1'] = \\\n",
    "str(round(100 * (df_diff.loc[2, 'tot_venda'] / df_diff.loc[1, 'tot_venda'] - 1), 2)).replace('.', ',') + '%'\n",
    "# diff['abr_mar_2'] = \\\n",
    "# str(round(100 * (df_diff.loc[11, 'tot_venda'] / df_diff.loc[6, 'tot_venda'] - 1), 2)).replace('.', ',') + '%'\n",
    "# diff['abr_mar_3'] = \\\n",
    "# str(round(100 * (df_diff.loc[12, 'tot_venda'] / df_diff.loc[7, 'tot_venda'] - 1), 2)).replace('.', ',') + '%'\n",
    "# diff['abr_mar_4'] = \\\n",
    "# str(round(100 * (df_diff.loc[13, 'tot_venda'] / df_diff.loc[8, 'tot_venda'] - 1), 2)).replace('.', ',') + '%'\n",
    "# diff['abr_mar_5'] = \\\n",
    "# str(round(100 * (df_diff.loc[14, 'tot_venda'] / df_diff.loc[9, 'tot_venda'] - 1), 2)).replace('.', ',') + '%'"
   ]
  },
  {
   "cell_type": "code",
   "execution_count": 24,
   "metadata": {
    "ExecuteTime": {
     "end_time": "2020-04-07T18:19:12.313808Z",
     "start_time": "2020-04-07T18:19:12.288667Z"
    }
   },
   "outputs": [],
   "source": [
    "# diff"
   ]
  },
  {
   "cell_type": "code",
   "execution_count": 25,
   "metadata": {
    "ExecuteTime": {
     "end_time": "2020-04-07T18:19:12.595922Z",
     "start_time": "2020-04-07T18:19:12.316009Z"
    }
   },
   "outputs": [
    {
     "data": {
      "image/png": "[encoded data removed]",
      "text/plain": [
       "<Figure size 1440x288 with 1 Axes>"
      ]
     },
     "metadata": {
      "needs_background": "light"
     },
     "output_type": "display_data"
    }
   ],
   "source": [
    "df_capitais_fev = df_capitais[df_capitais['mes'] == 2].reset_index(drop=True)\n",
    "df_capitais_mar = df_capitais[df_capitais['mes'] == 3].reset_index(drop=True)\n",
    "df_capitais_abr = df_capitais[df_capitais['mes'] == 4].reset_index(drop=True)\n",
    "\n",
    "fig, ax = plt.subplots(figsize=(20, 4))\n",
    "\n",
    "# sns.lineplot(x=range(n_dias), y='tot_venda', data=df_capitais_fev, color='0.6', lw=3, ax=ax)\n",
    "sns.lineplot(x=range(n_dias), y='tot_venda', data=df_capitais_mar, color='0.4', lw=3, ax=ax)\n",
    "sns.lineplot(x=range(n_dias), y='tot_venda', data=df_capitais_abr, lw=3, ax=ax)\n",
    "\n",
    "y_max = ax.get_ylim()[1]\n",
    "\n",
    "ax.set_xlim(-0.5, n_dias)\n",
    "ax.set_xticks(range(n_dias))\n",
    "ax.set_xticklabels(df_capitais_fev['dia_da_semana'])\n",
    "# ax.axvline(6.5, ymin=0, ymax=200, color='0', ls=':')\n",
    "# ax.axvline(13.5, ymin=0, ymax=200, color='0', ls=':')\n",
    "# ax.axvline(20.5, ymin=0, ymax=200, color='0', ls=':')\n",
    "# ax.axvline(27.5, ymin=0, ymax=200, color='0', ls=':')\n",
    "ax.spines['right'].set_visible(False)\n",
    "ax.spines['top'].set_visible(False)\n",
    "# ax.text(0, y_max, '1ª semana', size=15)\n",
    "# ax.text(0, y_max, '\\u0394(abr-fev) = {}'.format(diff['abr_fev_1']), size=15, color='red')\n",
    "ax.text(0, y_max, '\\u0394(abr-mar) = {}'.format(diff['abr_mar_1']), size=15, color='red')\n",
    "# # ax.text(7, y_max, '2ª semana', size=15)\n",
    "# ax.text(7, y_max, '\\u0394(abr-fev) = {}'.format(diff['abr_fev_2']), size=15, color='green')\n",
    "# # ax.text(7, y_max, '\\u0394(abr-mar) = {}'.format(diff['abr_mar_2']), size=15, color='green')\n",
    "# # ax.text(14, y_max, '3ª semana', size=15)\n",
    "# ax.text(14, y_max, '\\u0394(abr-fev) = {}'.format(diff['abr_fev_3']), size=15, color='red')\n",
    "# # ax.text(14, y_max, '\\u0394(abr-mar) = {}'.format(diff['abr_mar_3']), size=15, color='red')\n",
    "# # ax.text(21, y_max, '\\u0394(abr-mar) = {}'.format(diff['abr_mar_4']), size=15, color='red')\n",
    "# ax.text(21, y_max, '\\u0394(abr-fev) = {}'.format(diff['abr_fev_4']), size=15, color='red')\n",
    "# ax.text(28, y_max, '\\u0394(abr-fev) = {}'.format(diff['abr_fev_5']), size=15, color='red')\n",
    "ax.set_ylabel('VENDAS TOTAIS', size=12)\n",
    "# ax.annotate('Fev/20', (n_dias-0.9, df_capitais_fev.loc[n_dias-1, 'tot_venda']), size=12)\n",
    "ax.annotate('Mar/20', (n_dias-0.9, df_capitais_mar.loc[n_dias-1, 'tot_venda']), size=12)\n",
    "ax.annotate('Abr/20', (n_dias-0.9, df_capitais_abr.loc[n_dias-1, 'tot_venda']), size=12)\n",
    "\n",
    "plt.savefig('imagens/capitais.png')"
   ]
  },
  {
   "cell_type": "markdown",
   "metadata": {},
   "source": [
    "# Não-Capitais"
   ]
  },
  {
   "cell_type": "code",
   "execution_count": 26,
   "metadata": {
    "ExecuteTime": {
     "end_time": "2020-04-07T18:19:12.629209Z",
     "start_time": "2020-04-07T18:19:12.598787Z"
    }
   },
   "outputs": [],
   "source": [
    "df_nao_capitais = pd.DataFrame(df[df['capital'] == False].groupby('dia')['tot_venda'].sum()).reset_index()\n",
    "\n",
    "df_nao_capitais['mes'] = df_nao_capitais['dia'].apply(lambda x: x.month)\n",
    "df_nao_capitais['dia_da_semana'] = df_nao_capitais['dia'].apply(lambda x: x.isoweekday())\n",
    "df_nao_capitais['semana'] = df_nao_capitais['dia'].apply(lambda x: x.isocalendar()[1])\n",
    "\n",
    "df_nao_capitais['dia_da_semana'] = df_nao_capitais['dia_da_semana'].map(dia_da_semana_dict)\n",
    "\n",
    "df_nao_capitais.loc[df_nao_capitais['mes'] == 2, 'semana'] -= 4\n",
    "df_nao_capitais.loc[df_nao_capitais['mes'] == 3, 'semana'] -= 8\n",
    "df_nao_capitais.loc[df_nao_capitais['mes'] == 4, 'semana'] -= 12\n",
    "\n",
    "df_nao_capitais['semana_mod'] = np.tile(np.append(df_nao_capitais.loc[df_nao_capitais['mes'] == 2, 'semana'].values[1:], 2), 3) - 1\n",
    "\n",
    "df_diff = df_nao_capitais.groupby(['mes', 'semana_mod'])['tot_venda'].sum().reset_index()"
   ]
  },
  {
   "cell_type": "code",
   "execution_count": 27,
   "metadata": {
    "ExecuteTime": {
     "end_time": "2020-04-07T18:19:12.633603Z",
     "start_time": "2020-04-07T18:19:12.630982Z"
    }
   },
   "outputs": [],
   "source": [
    "# df_temp_jan = df_nao_capitais[df_nao_capitais['mes'] == 1]\n",
    "# df_temp_jan2 = pd.concat([df_temp_jan.iloc[1:], df_temp_jan.iloc[:8]]).reset_index(drop=True)\n",
    "# df_temp_fev = df_nao_capitais[df_nao_capitais['mes'] == 2].reset_index(drop=True)\n",
    "# df_temp_fev2 = pd.concat([df_temp_fev, df_temp_fev.iloc[:7]]).reset_index(drop=True)\n",
    "# df_temp_mar = (df_nao_capitais[(df_nao_capitais['dia'] >= '2020-03-01') &\n",
    "#                                (df_nao_capitais['dia'] <= '2020-04-04')].reset_index(drop=True))\n",
    "\n",
    "# df_nao_capitais = pd.concat([df_temp_jan2, df_temp_fev2, df_temp_mar]).reset_index(drop=True)\n",
    "# df_nao_capitais['semana_mod'] = np.tile(np.append(df_nao_capitais.loc[df_nao_capitais['mes'] == 3, 'semana'].values[1:], 5*[6]), 3) - 1\n",
    "# df_nao_capitais.loc[df_nao_capitais['mes'] == 4, 'mes'] = 3\n",
    "\n",
    "# df_diff = df_nao_capitais.groupby(['mes', 'semana_mod'])['tot_venda'].sum().reset_index()"
   ]
  },
  {
   "cell_type": "code",
   "execution_count": 28,
   "metadata": {
    "ExecuteTime": {
     "end_time": "2020-04-07T18:19:12.653385Z",
     "start_time": "2020-04-07T18:19:12.635753Z"
    }
   },
   "outputs": [],
   "source": [
    "# df_nao_capitais"
   ]
  },
  {
   "cell_type": "code",
   "execution_count": 29,
   "metadata": {
    "ExecuteTime": {
     "end_time": "2020-04-07T18:19:12.677706Z",
     "start_time": "2020-04-07T18:19:12.656596Z"
    }
   },
   "outputs": [],
   "source": [
    "# df_diff"
   ]
  },
  {
   "cell_type": "code",
   "execution_count": 30,
   "metadata": {
    "ExecuteTime": {
     "end_time": "2020-04-07T18:19:12.701877Z",
     "start_time": "2020-04-07T18:19:12.679397Z"
    }
   },
   "outputs": [],
   "source": [
    "diff = {}\n",
    "diff['abr_fev_1'] = \\\n",
    "str(round(100 * (df_diff.loc[2, 'tot_venda'] / df_diff.loc[0, 'tot_venda'] - 1), 2)).replace('.', ',') + '%'\n",
    "# diff['abr_fev_2'] = \\\n",
    "# str(round(100 * (df_diff.loc[11, 'tot_venda'] / df_diff.loc[1, 'tot_venda'] - 1), 2)).replace('.', ',') + '%'\n",
    "# diff['abr_fev_3'] = \\\n",
    "# str(round(100 * (df_diff.loc[12, 'tot_venda'] / df_diff.loc[2, 'tot_venda'] - 1), 2)).replace('.', ',') + '%'\n",
    "# diff['abr_fev_4'] = \\\n",
    "# str(round(100 * (df_diff.loc[13, 'tot_venda'] / df_diff.loc[3, 'tot_venda'] - 1), 2)).replace('.', ',') + '%'\n",
    "# diff['abr_fev_5'] = \\\n",
    "# str(round(100 * (df_diff.loc[14, 'tot_venda'] / df_diff.loc[4, 'tot_venda'] - 1), 2)).replace('.', ',') + '%'\n",
    "\n",
    "diff['abr_mar_1'] = \\\n",
    "str(round(100 * (df_diff.loc[2, 'tot_venda'] / df_diff.loc[1, 'tot_venda'] - 1), 2)).replace('.', ',') + '%'\n",
    "# diff['abr_mar_2'] = \\\n",
    "# str(round(100 * (df_diff.loc[11, 'tot_venda'] / df_diff.loc[6, 'tot_venda'] - 1), 2)).replace('.', ',') + '%'\n",
    "# diff['abr_mar_3'] = \\\n",
    "# str(round(100 * (df_diff.loc[12, 'tot_venda'] / df_diff.loc[7, 'tot_venda'] - 1), 2)).replace('.', ',') + '%'\n",
    "# diff['abr_mar_4'] = \\\n",
    "# str(round(100 * (df_diff.loc[13, 'tot_venda'] / df_diff.loc[8, 'tot_venda'] - 1), 2)).replace('.', ',') + '%'\n",
    "# diff['abr_mar_5'] = \\\n",
    "# str(round(100 * (df_diff.loc[14, 'tot_venda'] / df_diff.loc[9, 'tot_venda'] - 1), 2)).replace('.', ',') + '%'"
   ]
  },
  {
   "cell_type": "code",
   "execution_count": 31,
   "metadata": {
    "ExecuteTime": {
     "end_time": "2020-04-07T18:19:12.731965Z",
     "start_time": "2020-04-07T18:19:12.707134Z"
    }
   },
   "outputs": [],
   "source": [
    "# diff"
   ]
  },
  {
   "cell_type": "code",
   "execution_count": 32,
   "metadata": {
    "ExecuteTime": {
     "end_time": "2020-04-07T18:19:12.996225Z",
     "start_time": "2020-04-07T18:19:12.733394Z"
    },
    "scrolled": true
   },
   "outputs": [
    {
     "data": {
      "image/png": "[encoded data removed]",
      "text/plain": [
       "<Figure size 1440x288 with 1 Axes>"
      ]
     },
     "metadata": {
      "needs_background": "light"
     },
     "output_type": "display_data"
    }
   ],
   "source": [
    "df_nao_capitais_fev = df_nao_capitais[df_nao_capitais['mes'] == 2].reset_index(drop=True)\n",
    "df_nao_capitais_mar = df_nao_capitais[df_nao_capitais['mes'] == 3].reset_index(drop=True)\n",
    "df_nao_capitais_abr = df_nao_capitais[df_nao_capitais['mes'] == 4].reset_index(drop=True)\n",
    "\n",
    "fig, ax = plt.subplots(figsize=(20, 4))\n",
    "\n",
    "# sns.lineplot(x=range(n_dias), y='tot_venda', data=df_nao_capitais_fev, color='0.6', lw=3, ax=ax)\n",
    "sns.lineplot(x=range(n_dias), y='tot_venda', data=df_nao_capitais_mar, color='0.4', lw=3, ax=ax)\n",
    "sns.lineplot(x=range(n_dias), y='tot_venda', data=df_nao_capitais_abr, lw=3, ax=ax)\n",
    "\n",
    "y_max = ax.get_ylim()[1]\n",
    "\n",
    "ax.set_xlim(-0.5, n_dias)\n",
    "ax.set_xticks(range(n_dias))\n",
    "ax.set_xticklabels(df_nao_capitais_fev['dia_da_semana'])\n",
    "# ax.axvline(6.5, ymin=0, ymax=200, color='0', ls=':')\n",
    "# ax.axvline(13.5, ymin=0, ymax=200, color='0', ls=':')\n",
    "# ax.axvline(20.5, ymin=0, ymax=200, color='0', ls=':')\n",
    "# ax.axvline(27.5, ymin=0, ymax=200, color='0', ls=':')\n",
    "ax.spines['right'].set_visible(False)\n",
    "ax.spines['top'].set_visible(False)\n",
    "# ax.text(0, y_max, '1ª semana', size=15)\n",
    "# ax.text(0, y_max, '\\u0394(abr-fev) = {}'.format(diff['abr_fev_1']), size=15, color='red')\n",
    "ax.text(0, y_max, '\\u0394(abr-mar) = {}'.format(diff['abr_mar_1']), size=15, color='red')\n",
    "# # ax.text(7, y_max, '2ª semana', size=15)\n",
    "# ax.text(7, y_max, '\\u0394(abr-fev) = {}'.format(diff['abr_fev_2']), size=15, color='green')\n",
    "# # ax.text(7, y_max, '\\u0394(abr-mar) = {}'.format(diff['abr_mar_2']), size=15, color='green')\n",
    "# # ax.text(14, y_max, '3ª semana', size=15)\n",
    "# ax.text(14, y_max, '\\u0394(abr-fev) = {}'.format(diff['abr_fev_3']), size=15, color='red')\n",
    "# # ax.text(14, y_max, '\\u0394(abr-mar) = {}'.format(diff['abr_mar_3']), size=15, color='red')\n",
    "# # ax.text(21, y_max, '\\u0394(abr-mar) = {}'.format(diff['abr_mar_4']), size=15, color='red')\n",
    "# ax.text(21, y_max, '\\u0394(abr-fev) = {}'.format(diff['abr_fev_4']), size=15, color='red')\n",
    "# ax.text(28, y_max, '\\u0394(abr-fev) = {}'.format(diff['abr_fev_5']), size=15, color='red')\n",
    "ax.set_ylabel('VENDAS TOTAIS', size=12)\n",
    "# ax.annotate('Fev/20', (n_dias-0.9, df_nao_capitais_fev.loc[n_dias-1, 'tot_venda']), size=12)\n",
    "ax.annotate('Mar/20', (n_dias-0.9, df_nao_capitais_mar.loc[n_dias-1, 'tot_venda']), size=12)\n",
    "ax.annotate('Abr/20', (n_dias-0.9, df_nao_capitais_abr.loc[n_dias-1, 'tot_venda']), size=12)\n",
    "\n",
    "plt.savefig('imagens/nao_capitais.png')"
   ]
  },
  {
   "cell_type": "markdown",
   "metadata": {},
   "source": [
    "# Estados"
   ]
  },
  {
   "cell_type": "code",
   "execution_count": 33,
   "metadata": {
    "ExecuteTime": {
     "end_time": "2020-04-07T18:19:13.005887Z",
     "start_time": "2020-04-07T18:19:12.998195Z"
    },
    "scrolled": true
   },
   "outputs": [],
   "source": [
    "df = df.dropna(axis=0, subset=['state'])\n",
    "# df['state'].unique()"
   ]
  },
  {
   "cell_type": "code",
   "execution_count": 34,
   "metadata": {
    "ExecuteTime": {
     "end_time": "2020-04-07T18:19:13.025670Z",
     "start_time": "2020-04-07T18:19:13.007615Z"
    },
    "scrolled": true
   },
   "outputs": [],
   "source": [
    "to_replace = ['santa catarina', 'bahia', 'sao paulo', 'são pauo',\n",
    "              'alagoas', 'goias', 'espírito santo', 'minas gerais',\n",
    "              'maranhao', 'vitoria', 'rio de janeiro', 'parana', 'paraná',\n",
    "              'pará', 'são paulo', 'belo horizonte', 'ceará', 'fortaleza',\n",
    "              'guaruja']\n",
    "\n",
    "estados_dict = {'santa catarina': 'sc',\n",
    "                'bahia': 'ba',\n",
    "                'sao paulo': 'sp',\n",
    "                'são pauo': 'sp',\n",
    "                'alagoas': 'al',\n",
    "                'goias': 'go',\n",
    "                'espírito santo': 'es',\n",
    "                'minas gerais': 'mg',\n",
    "                'maranhao': 'ma',\n",
    "                'vitoria': 'es',\n",
    "                'rio de janeiro': 'rj',\n",
    "                'parana': 'pr',\n",
    "                'paraná': 'pr',\n",
    "                'pará': 'pa',\n",
    "                'são paulo': 'sp',\n",
    "                'belo horizonte': 'mg',\n",
    "                'ceará': 'ce',\n",
    "                'fortaleza': 'ce',\n",
    "                'guaruja': 'sp'}\n",
    "\n",
    "mask = df['state'].isin(to_replace)\n",
    "df.loc[mask, 'state'] = df.loc[mask, 'state'].map(estados_dict)\n",
    "# df['state'].unique()"
   ]
  },
  {
   "cell_type": "code",
   "execution_count": 35,
   "metadata": {
    "ExecuteTime": {
     "end_time": "2020-04-07T18:19:13.049323Z",
     "start_time": "2020-04-07T18:19:13.027711Z"
    }
   },
   "outputs": [],
   "source": [
    "estados = df['state'].unique()"
   ]
  },
  {
   "cell_type": "code",
   "execution_count": 36,
   "metadata": {
    "ExecuteTime": {
     "end_time": "2020-04-07T18:19:13.078713Z",
     "start_time": "2020-04-07T18:19:13.050872Z"
    }
   },
   "outputs": [],
   "source": [
    "df_estados = pd.DataFrame(df.groupby(['state', 'dia'])['tot_venda'].sum()).reset_index()\n",
    "\n",
    "df_estados['mes'] = df_estados['dia'].apply(lambda x: x.month)\n",
    "df_estados['dia_da_semana'] = df_estados['dia'].apply(lambda x: x.isoweekday())\n",
    "df_estados['semana'] = df_estados['dia'].apply(lambda x: x.isocalendar()[1])"
   ]
  },
  {
   "cell_type": "code",
   "execution_count": 37,
   "metadata": {
    "ExecuteTime": {
     "end_time": "2020-04-07T18:19:13.391737Z",
     "start_time": "2020-04-07T18:19:13.080665Z"
    },
    "scrolled": true
   },
   "outputs": [],
   "source": [
    "df_estados_dict = {}\n",
    "df_diff = {}\n",
    "dias = df_estados.loc[df_estados['state'] == 'sp', 'dia'].values\n",
    "for e in estados:\n",
    "    df_estados_dict[e] = df_estados[df_estados['state'] == e]\n",
    "    if len(df_estados_dict[e]) < len(dias):\n",
    "        for d in dias:\n",
    "            dias_estado = df_estados_dict[e]['dia'].values\n",
    "            if d in dias_estado:\n",
    "                continue\n",
    "            else:\n",
    "                ts = (d - np.datetime64('1970-01-01T00:00:00Z')) / np.timedelta64(1, 's')\n",
    "                dia_dt = dt.datetime.utcfromtimestamp(ts)\n",
    "                df_estados_dict[e] = df_estados_dict[e].append({'state': e,\n",
    "                                                                'dia': dia_dt,\n",
    "                                                                'tot_venda': 0,\n",
    "                                                                'mes': dia_dt.month,\n",
    "                                                                'dia_da_semana': dia_dt.isoweekday(),\n",
    "                                                                'semana': dia_dt.isocalendar()[1]}, ignore_index=True)\n",
    "        df_estados_dict[e] = df_estados_dict[e].sort_values('dia').reset_index(drop=True)\n",
    "    else:\n",
    "        df_estados_dict[e] = df_estados[df_estados['state'] == e].reset_index(drop=True)\n",
    "\n",
    "    df_estados_dict[e]['dia_da_semana'] = df_estados_dict[e]['dia_da_semana'].map(dia_da_semana_dict)\n",
    "\n",
    "    df_estados_dict[e].loc[df_estados_dict[e]['mes'] == 2, 'semana'] -= 4\n",
    "    df_estados_dict[e].loc[df_estados_dict[e]['mes'] == 3, 'semana'] -= 8\n",
    "    df_estados_dict[e].loc[df_estados_dict[e]['mes'] == 4, 'semana'] -= 12\n",
    "    \n",
    "#     df_temp_jan = df_estados_dict[e][df_estados_dict[e]['mes'] == 1]\n",
    "#     df_temp_jan2 = pd.concat([df_temp_jan.iloc[1:], df_temp_jan.iloc[:8]]).reset_index(drop=True)\n",
    "#     df_temp_fev = df_estados_dict[e][df_estados_dict[e]['mes'] == 2].reset_index(drop=True)\n",
    "#     df_temp_fev2 = pd.concat([df_temp_fev, df_temp_fev.iloc[:7]]).reset_index(drop=True)\n",
    "#     df_temp_mar = (df_estados_dict[e][(df_estados_dict[e]['dia'] >= '2020-03-01') & \n",
    "#                                       (df_estados_dict[e]['dia'] <= '2020-04-04')].reset_index(drop=True))\n",
    "\n",
    "#     df_estados_dict[e] = pd.concat([df_temp_jan2, df_temp_fev2, df_temp_mar]).reset_index(drop=True)\n",
    "\n",
    "#     df_estados_dict[e]['semana_mod'] = \\\n",
    "#     np.tile(np.append(df_estados_dict[e].loc[df_estados_dict[e]['mes'] == 3, 'semana'].values[1:], 5*[6]), 3) - 1\n",
    "#     df_estados_dict[e].loc[df_estados_dict[e]['mes'] == 4, 'mes'] = 3\n",
    "\n",
    "    df_estados_dict[e]['semana_mod'] = \\\n",
    "    np.tile(np.append(df_estados_dict[e].loc[df_estados_dict[e]['mes'] == 2, 'semana'].values[1:], 2), 3) - 1\n",
    "\n",
    "    df_diff[e] = df_estados_dict[e].groupby(['mes', 'semana_mod'])['tot_venda'].sum().reset_index()"
   ]
  },
  {
   "cell_type": "code",
   "execution_count": 38,
   "metadata": {
    "ExecuteTime": {
     "end_time": "2020-04-07T18:19:13.508723Z",
     "start_time": "2020-04-07T18:19:13.393819Z"
    },
    "collapsed": true
   },
   "outputs": [
    {
     "ename": "KeyError",
     "evalue": "10",
     "output_type": "error",
     "traceback": [
      "\u001b[0;31m---------------------------------------------------------------------------\u001b[0m",
      "\u001b[0;31mValueError\u001b[0m                                Traceback (most recent call last)",
      "\u001b[0;32m~/miniconda3/envs/base-env/lib/python3.8/site-packages/pandas/core/indexes/range.py\u001b[0m in \u001b[0;36mget_loc\u001b[0;34m(self, key, method, tolerance)\u001b[0m\n\u001b[1;32m    349\u001b[0m             \u001b[0;32mtry\u001b[0m\u001b[0;34m:\u001b[0m\u001b[0;34m\u001b[0m\u001b[0;34m\u001b[0m\u001b[0m\n\u001b[0;32m--> 350\u001b[0;31m                 \u001b[0;32mreturn\u001b[0m \u001b[0mself\u001b[0m\u001b[0;34m.\u001b[0m\u001b[0m_range\u001b[0m\u001b[0;34m.\u001b[0m\u001b[0mindex\u001b[0m\u001b[0;34m(\u001b[0m\u001b[0mnew_key\u001b[0m\u001b[0;34m)\u001b[0m\u001b[0;34m\u001b[0m\u001b[0;34m\u001b[0m\u001b[0m\n\u001b[0m\u001b[1;32m    351\u001b[0m             \u001b[0;32mexcept\u001b[0m \u001b[0mValueError\u001b[0m\u001b[0;34m:\u001b[0m\u001b[0;34m\u001b[0m\u001b[0;34m\u001b[0m\u001b[0m\n",
      "\u001b[0;31mValueError\u001b[0m: 10 is not in range",
      "\nDuring handling of the above exception, another exception occurred:\n",
      "\u001b[0;31mKeyError\u001b[0m                                  Traceback (most recent call last)",
      "\u001b[0;32m<ipython-input-38-d9693ccb9a61>\u001b[0m in \u001b[0;36m<module>\u001b[0;34m\u001b[0m\n\u001b[1;32m      8\u001b[0m \u001b[0;34m\u001b[0m\u001b[0m\n\u001b[1;32m      9\u001b[0m     \u001b[0mdiff\u001b[0m\u001b[0;34m[\u001b[0m\u001b[0me\u001b[0m\u001b[0;34m]\u001b[0m\u001b[0;34m[\u001b[0m\u001b[0;34m'abr_fev_1'\u001b[0m\u001b[0;34m]\u001b[0m \u001b[0;34m=\u001b[0m\u001b[0;31m \u001b[0m\u001b[0;31m\\\u001b[0m\u001b[0;34m\u001b[0m\u001b[0;34m\u001b[0m\u001b[0m\n\u001b[0;32m---> 10\u001b[0;31m     \u001b[0mstr\u001b[0m\u001b[0;34m(\u001b[0m\u001b[0mround\u001b[0m\u001b[0;34m(\u001b[0m\u001b[0;36m100\u001b[0m \u001b[0;34m*\u001b[0m \u001b[0;34m(\u001b[0m\u001b[0mdf_diff\u001b[0m\u001b[0;34m[\u001b[0m\u001b[0me\u001b[0m\u001b[0;34m]\u001b[0m\u001b[0;34m.\u001b[0m\u001b[0mloc\u001b[0m\u001b[0;34m[\u001b[0m\u001b[0;36m10\u001b[0m\u001b[0;34m,\u001b[0m \u001b[0;34m'tot_venda'\u001b[0m\u001b[0;34m]\u001b[0m \u001b[0;34m/\u001b[0m \u001b[0mdf_diff\u001b[0m\u001b[0;34m[\u001b[0m\u001b[0me\u001b[0m\u001b[0;34m]\u001b[0m\u001b[0;34m.\u001b[0m\u001b[0mloc\u001b[0m\u001b[0;34m[\u001b[0m\u001b[0;36m0\u001b[0m\u001b[0;34m,\u001b[0m \u001b[0;34m'tot_venda'\u001b[0m\u001b[0;34m]\u001b[0m \u001b[0;34m-\u001b[0m \u001b[0;36m1\u001b[0m\u001b[0;34m)\u001b[0m\u001b[0;34m,\u001b[0m \u001b[0;36m2\u001b[0m\u001b[0;34m)\u001b[0m\u001b[0;34m)\u001b[0m\u001b[0;34m.\u001b[0m\u001b[0mreplace\u001b[0m\u001b[0;34m(\u001b[0m\u001b[0;34m'.'\u001b[0m\u001b[0;34m,\u001b[0m \u001b[0;34m','\u001b[0m\u001b[0;34m)\u001b[0m \u001b[0;34m+\u001b[0m \u001b[0;34m'%'\u001b[0m\u001b[0;34m\u001b[0m\u001b[0;34m\u001b[0m\u001b[0m\n\u001b[0m\u001b[1;32m     11\u001b[0m     \u001b[0mdiff\u001b[0m\u001b[0;34m[\u001b[0m\u001b[0me\u001b[0m\u001b[0;34m]\u001b[0m\u001b[0;34m[\u001b[0m\u001b[0;34m'abr_fev_2'\u001b[0m\u001b[0;34m]\u001b[0m \u001b[0;34m=\u001b[0m\u001b[0;31m \u001b[0m\u001b[0;31m\\\u001b[0m\u001b[0;34m\u001b[0m\u001b[0;34m\u001b[0m\u001b[0m\n\u001b[1;32m     12\u001b[0m     \u001b[0mstr\u001b[0m\u001b[0;34m(\u001b[0m\u001b[0mround\u001b[0m\u001b[0;34m(\u001b[0m\u001b[0;36m100\u001b[0m \u001b[0;34m*\u001b[0m \u001b[0;34m(\u001b[0m\u001b[0mdf_diff\u001b[0m\u001b[0;34m[\u001b[0m\u001b[0me\u001b[0m\u001b[0;34m]\u001b[0m\u001b[0;34m.\u001b[0m\u001b[0mloc\u001b[0m\u001b[0;34m[\u001b[0m\u001b[0;36m11\u001b[0m\u001b[0;34m,\u001b[0m \u001b[0;34m'tot_venda'\u001b[0m\u001b[0;34m]\u001b[0m \u001b[0;34m/\u001b[0m \u001b[0mdf_diff\u001b[0m\u001b[0;34m[\u001b[0m\u001b[0me\u001b[0m\u001b[0;34m]\u001b[0m\u001b[0;34m.\u001b[0m\u001b[0mloc\u001b[0m\u001b[0;34m[\u001b[0m\u001b[0;36m1\u001b[0m\u001b[0;34m,\u001b[0m \u001b[0;34m'tot_venda'\u001b[0m\u001b[0;34m]\u001b[0m \u001b[0;34m-\u001b[0m \u001b[0;36m1\u001b[0m\u001b[0;34m)\u001b[0m\u001b[0;34m,\u001b[0m \u001b[0;36m2\u001b[0m\u001b[0;34m)\u001b[0m\u001b[0;34m)\u001b[0m\u001b[0;34m.\u001b[0m\u001b[0mreplace\u001b[0m\u001b[0;34m(\u001b[0m\u001b[0;34m'.'\u001b[0m\u001b[0;34m,\u001b[0m \u001b[0;34m','\u001b[0m\u001b[0;34m)\u001b[0m \u001b[0;34m+\u001b[0m \u001b[0;34m'%'\u001b[0m\u001b[0;34m\u001b[0m\u001b[0;34m\u001b[0m\u001b[0m\n",
      "\u001b[0;32m~/miniconda3/envs/base-env/lib/python3.8/site-packages/pandas/core/indexing.py\u001b[0m in \u001b[0;36m__getitem__\u001b[0;34m(self, key)\u001b[0m\n\u001b[1;32m   1760\u001b[0m                 \u001b[0;32mexcept\u001b[0m \u001b[0;34m(\u001b[0m\u001b[0mKeyError\u001b[0m\u001b[0;34m,\u001b[0m \u001b[0mIndexError\u001b[0m\u001b[0;34m,\u001b[0m \u001b[0mAttributeError\u001b[0m\u001b[0;34m)\u001b[0m\u001b[0;34m:\u001b[0m\u001b[0;34m\u001b[0m\u001b[0;34m\u001b[0m\u001b[0m\n\u001b[1;32m   1761\u001b[0m                     \u001b[0;32mpass\u001b[0m\u001b[0;34m\u001b[0m\u001b[0;34m\u001b[0m\u001b[0m\n\u001b[0;32m-> 1762\u001b[0;31m             \u001b[0;32mreturn\u001b[0m \u001b[0mself\u001b[0m\u001b[0;34m.\u001b[0m\u001b[0m_getitem_tuple\u001b[0m\u001b[0;34m(\u001b[0m\u001b[0mkey\u001b[0m\u001b[0;34m)\u001b[0m\u001b[0;34m\u001b[0m\u001b[0;34m\u001b[0m\u001b[0m\n\u001b[0m\u001b[1;32m   1763\u001b[0m         \u001b[0;32melse\u001b[0m\u001b[0;34m:\u001b[0m\u001b[0;34m\u001b[0m\u001b[0;34m\u001b[0m\u001b[0m\n\u001b[1;32m   1764\u001b[0m             \u001b[0;31m# we by definition only have the 0th axis\u001b[0m\u001b[0;34m\u001b[0m\u001b[0;34m\u001b[0m\u001b[0;34m\u001b[0m\u001b[0m\n",
      "\u001b[0;32m~/miniconda3/envs/base-env/lib/python3.8/site-packages/pandas/core/indexing.py\u001b[0m in \u001b[0;36m_getitem_tuple\u001b[0;34m(self, tup)\u001b[0m\n\u001b[1;32m   1270\u001b[0m     \u001b[0;32mdef\u001b[0m \u001b[0m_getitem_tuple\u001b[0m\u001b[0;34m(\u001b[0m\u001b[0mself\u001b[0m\u001b[0;34m,\u001b[0m \u001b[0mtup\u001b[0m\u001b[0;34m:\u001b[0m \u001b[0mTuple\u001b[0m\u001b[0;34m)\u001b[0m\u001b[0;34m:\u001b[0m\u001b[0;34m\u001b[0m\u001b[0;34m\u001b[0m\u001b[0m\n\u001b[1;32m   1271\u001b[0m         \u001b[0;32mtry\u001b[0m\u001b[0;34m:\u001b[0m\u001b[0;34m\u001b[0m\u001b[0;34m\u001b[0m\u001b[0m\n\u001b[0;32m-> 1272\u001b[0;31m             \u001b[0;32mreturn\u001b[0m \u001b[0mself\u001b[0m\u001b[0;34m.\u001b[0m\u001b[0m_getitem_lowerdim\u001b[0m\u001b[0;34m(\u001b[0m\u001b[0mtup\u001b[0m\u001b[0;34m)\u001b[0m\u001b[0;34m\u001b[0m\u001b[0;34m\u001b[0m\u001b[0m\n\u001b[0m\u001b[1;32m   1273\u001b[0m         \u001b[0;32mexcept\u001b[0m \u001b[0mIndexingError\u001b[0m\u001b[0;34m:\u001b[0m\u001b[0;34m\u001b[0m\u001b[0;34m\u001b[0m\u001b[0m\n\u001b[1;32m   1274\u001b[0m             \u001b[0;32mpass\u001b[0m\u001b[0;34m\u001b[0m\u001b[0;34m\u001b[0m\u001b[0m\n",
      "\u001b[0;32m~/miniconda3/envs/base-env/lib/python3.8/site-packages/pandas/core/indexing.py\u001b[0m in \u001b[0;36m_getitem_lowerdim\u001b[0;34m(self, tup)\u001b[0m\n\u001b[1;32m   1387\u001b[0m         \u001b[0;32mfor\u001b[0m \u001b[0mi\u001b[0m\u001b[0;34m,\u001b[0m \u001b[0mkey\u001b[0m \u001b[0;32min\u001b[0m \u001b[0menumerate\u001b[0m\u001b[0;34m(\u001b[0m\u001b[0mtup\u001b[0m\u001b[0;34m)\u001b[0m\u001b[0;34m:\u001b[0m\u001b[0;34m\u001b[0m\u001b[0;34m\u001b[0m\u001b[0m\n\u001b[1;32m   1388\u001b[0m             \u001b[0;32mif\u001b[0m \u001b[0mis_label_like\u001b[0m\u001b[0;34m(\u001b[0m\u001b[0mkey\u001b[0m\u001b[0;34m)\u001b[0m \u001b[0;32mor\u001b[0m \u001b[0misinstance\u001b[0m\u001b[0;34m(\u001b[0m\u001b[0mkey\u001b[0m\u001b[0;34m,\u001b[0m \u001b[0mtuple\u001b[0m\u001b[0;34m)\u001b[0m\u001b[0;34m:\u001b[0m\u001b[0;34m\u001b[0m\u001b[0;34m\u001b[0m\u001b[0m\n\u001b[0;32m-> 1389\u001b[0;31m                 \u001b[0msection\u001b[0m \u001b[0;34m=\u001b[0m \u001b[0mself\u001b[0m\u001b[0;34m.\u001b[0m\u001b[0m_getitem_axis\u001b[0m\u001b[0;34m(\u001b[0m\u001b[0mkey\u001b[0m\u001b[0;34m,\u001b[0m \u001b[0maxis\u001b[0m\u001b[0;34m=\u001b[0m\u001b[0mi\u001b[0m\u001b[0;34m)\u001b[0m\u001b[0;34m\u001b[0m\u001b[0;34m\u001b[0m\u001b[0m\n\u001b[0m\u001b[1;32m   1390\u001b[0m \u001b[0;34m\u001b[0m\u001b[0m\n\u001b[1;32m   1391\u001b[0m                 \u001b[0;31m# we have yielded a scalar ?\u001b[0m\u001b[0;34m\u001b[0m\u001b[0;34m\u001b[0m\u001b[0;34m\u001b[0m\u001b[0m\n",
      "\u001b[0;32m~/miniconda3/envs/base-env/lib/python3.8/site-packages/pandas/core/indexing.py\u001b[0m in \u001b[0;36m_getitem_axis\u001b[0;34m(self, key, axis)\u001b[0m\n\u001b[1;32m   1963\u001b[0m         \u001b[0;31m# fall thru to straight lookup\u001b[0m\u001b[0;34m\u001b[0m\u001b[0;34m\u001b[0m\u001b[0;34m\u001b[0m\u001b[0m\n\u001b[1;32m   1964\u001b[0m         \u001b[0mself\u001b[0m\u001b[0;34m.\u001b[0m\u001b[0m_validate_key\u001b[0m\u001b[0;34m(\u001b[0m\u001b[0mkey\u001b[0m\u001b[0;34m,\u001b[0m \u001b[0maxis\u001b[0m\u001b[0;34m)\u001b[0m\u001b[0;34m\u001b[0m\u001b[0;34m\u001b[0m\u001b[0m\n\u001b[0;32m-> 1965\u001b[0;31m         \u001b[0;32mreturn\u001b[0m \u001b[0mself\u001b[0m\u001b[0;34m.\u001b[0m\u001b[0m_get_label\u001b[0m\u001b[0;34m(\u001b[0m\u001b[0mkey\u001b[0m\u001b[0;34m,\u001b[0m \u001b[0maxis\u001b[0m\u001b[0;34m=\u001b[0m\u001b[0maxis\u001b[0m\u001b[0;34m)\u001b[0m\u001b[0;34m\u001b[0m\u001b[0;34m\u001b[0m\u001b[0m\n\u001b[0m\u001b[1;32m   1966\u001b[0m \u001b[0;34m\u001b[0m\u001b[0m\n\u001b[1;32m   1967\u001b[0m \u001b[0;34m\u001b[0m\u001b[0m\n",
      "\u001b[0;32m~/miniconda3/envs/base-env/lib/python3.8/site-packages/pandas/core/indexing.py\u001b[0m in \u001b[0;36m_get_label\u001b[0;34m(self, label, axis)\u001b[0m\n\u001b[1;32m    623\u001b[0m             \u001b[0;32mraise\u001b[0m \u001b[0mIndexingError\u001b[0m\u001b[0;34m(\u001b[0m\u001b[0;34m\"no slices here, handle elsewhere\"\u001b[0m\u001b[0;34m)\u001b[0m\u001b[0;34m\u001b[0m\u001b[0;34m\u001b[0m\u001b[0m\n\u001b[1;32m    624\u001b[0m \u001b[0;34m\u001b[0m\u001b[0m\n\u001b[0;32m--> 625\u001b[0;31m         \u001b[0;32mreturn\u001b[0m \u001b[0mself\u001b[0m\u001b[0;34m.\u001b[0m\u001b[0mobj\u001b[0m\u001b[0;34m.\u001b[0m\u001b[0m_xs\u001b[0m\u001b[0;34m(\u001b[0m\u001b[0mlabel\u001b[0m\u001b[0;34m,\u001b[0m \u001b[0maxis\u001b[0m\u001b[0;34m=\u001b[0m\u001b[0maxis\u001b[0m\u001b[0;34m)\u001b[0m\u001b[0;34m\u001b[0m\u001b[0;34m\u001b[0m\u001b[0m\n\u001b[0m\u001b[1;32m    626\u001b[0m \u001b[0;34m\u001b[0m\u001b[0m\n\u001b[1;32m    627\u001b[0m     \u001b[0;32mdef\u001b[0m \u001b[0m_get_loc\u001b[0m\u001b[0;34m(\u001b[0m\u001b[0mself\u001b[0m\u001b[0;34m,\u001b[0m \u001b[0mkey\u001b[0m\u001b[0;34m:\u001b[0m \u001b[0mint\u001b[0m\u001b[0;34m,\u001b[0m \u001b[0maxis\u001b[0m\u001b[0;34m:\u001b[0m \u001b[0mint\u001b[0m\u001b[0;34m)\u001b[0m\u001b[0;34m:\u001b[0m\u001b[0;34m\u001b[0m\u001b[0;34m\u001b[0m\u001b[0m\n",
      "\u001b[0;32m~/miniconda3/envs/base-env/lib/python3.8/site-packages/pandas/core/generic.py\u001b[0m in \u001b[0;36mxs\u001b[0;34m(self, key, axis, level, drop_level)\u001b[0m\n\u001b[1;32m   3535\u001b[0m             \u001b[0mloc\u001b[0m\u001b[0;34m,\u001b[0m \u001b[0mnew_index\u001b[0m \u001b[0;34m=\u001b[0m \u001b[0mself\u001b[0m\u001b[0;34m.\u001b[0m\u001b[0mindex\u001b[0m\u001b[0;34m.\u001b[0m\u001b[0mget_loc_level\u001b[0m\u001b[0;34m(\u001b[0m\u001b[0mkey\u001b[0m\u001b[0;34m,\u001b[0m \u001b[0mdrop_level\u001b[0m\u001b[0;34m=\u001b[0m\u001b[0mdrop_level\u001b[0m\u001b[0;34m)\u001b[0m\u001b[0;34m\u001b[0m\u001b[0;34m\u001b[0m\u001b[0m\n\u001b[1;32m   3536\u001b[0m         \u001b[0;32melse\u001b[0m\u001b[0;34m:\u001b[0m\u001b[0;34m\u001b[0m\u001b[0;34m\u001b[0m\u001b[0m\n\u001b[0;32m-> 3537\u001b[0;31m             \u001b[0mloc\u001b[0m \u001b[0;34m=\u001b[0m \u001b[0mself\u001b[0m\u001b[0;34m.\u001b[0m\u001b[0mindex\u001b[0m\u001b[0;34m.\u001b[0m\u001b[0mget_loc\u001b[0m\u001b[0;34m(\u001b[0m\u001b[0mkey\u001b[0m\u001b[0;34m)\u001b[0m\u001b[0;34m\u001b[0m\u001b[0;34m\u001b[0m\u001b[0m\n\u001b[0m\u001b[1;32m   3538\u001b[0m \u001b[0;34m\u001b[0m\u001b[0m\n\u001b[1;32m   3539\u001b[0m             \u001b[0;32mif\u001b[0m \u001b[0misinstance\u001b[0m\u001b[0;34m(\u001b[0m\u001b[0mloc\u001b[0m\u001b[0;34m,\u001b[0m \u001b[0mnp\u001b[0m\u001b[0;34m.\u001b[0m\u001b[0mndarray\u001b[0m\u001b[0;34m)\u001b[0m\u001b[0;34m:\u001b[0m\u001b[0;34m\u001b[0m\u001b[0;34m\u001b[0m\u001b[0m\n",
      "\u001b[0;32m~/miniconda3/envs/base-env/lib/python3.8/site-packages/pandas/core/indexes/range.py\u001b[0m in \u001b[0;36mget_loc\u001b[0;34m(self, key, method, tolerance)\u001b[0m\n\u001b[1;32m    350\u001b[0m                 \u001b[0;32mreturn\u001b[0m \u001b[0mself\u001b[0m\u001b[0;34m.\u001b[0m\u001b[0m_range\u001b[0m\u001b[0;34m.\u001b[0m\u001b[0mindex\u001b[0m\u001b[0;34m(\u001b[0m\u001b[0mnew_key\u001b[0m\u001b[0;34m)\u001b[0m\u001b[0;34m\u001b[0m\u001b[0;34m\u001b[0m\u001b[0m\n\u001b[1;32m    351\u001b[0m             \u001b[0;32mexcept\u001b[0m \u001b[0mValueError\u001b[0m\u001b[0;34m:\u001b[0m\u001b[0;34m\u001b[0m\u001b[0;34m\u001b[0m\u001b[0m\n\u001b[0;32m--> 352\u001b[0;31m                 \u001b[0;32mraise\u001b[0m \u001b[0mKeyError\u001b[0m\u001b[0;34m(\u001b[0m\u001b[0mkey\u001b[0m\u001b[0;34m)\u001b[0m\u001b[0;34m\u001b[0m\u001b[0;34m\u001b[0m\u001b[0m\n\u001b[0m\u001b[1;32m    353\u001b[0m         \u001b[0;32mreturn\u001b[0m \u001b[0msuper\u001b[0m\u001b[0;34m(\u001b[0m\u001b[0;34m)\u001b[0m\u001b[0;34m.\u001b[0m\u001b[0mget_loc\u001b[0m\u001b[0;34m(\u001b[0m\u001b[0mkey\u001b[0m\u001b[0;34m,\u001b[0m \u001b[0mmethod\u001b[0m\u001b[0;34m=\u001b[0m\u001b[0mmethod\u001b[0m\u001b[0;34m,\u001b[0m \u001b[0mtolerance\u001b[0m\u001b[0;34m=\u001b[0m\u001b[0mtolerance\u001b[0m\u001b[0;34m)\u001b[0m\u001b[0;34m\u001b[0m\u001b[0;34m\u001b[0m\u001b[0m\n\u001b[1;32m    354\u001b[0m \u001b[0;34m\u001b[0m\u001b[0m\n",
      "\u001b[0;31mKeyError\u001b[0m: 10"
     ]
    }
   ],
   "source": [
    "diff = {}\n",
    "colors = []\n",
    "\n",
    "estados_ls = list(df_estados_dict.keys())\n",
    "\n",
    "for i, e in enumerate(estados_ls):\n",
    "    diff[e] = {}\n",
    "    \n",
    "    diff[e]['abr_fev_1'] = \\\n",
    "    str(round(100 * (df_diff[e].loc[10, 'tot_venda'] / df_diff[e].loc[0, 'tot_venda'] - 1), 2)).replace('.', ',') + '%'\n",
    "    diff[e]['abr_fev_2'] = \\\n",
    "    str(round(100 * (df_diff[e].loc[11, 'tot_venda'] / df_diff[e].loc[1, 'tot_venda'] - 1), 2)).replace('.', ',') + '%'\n",
    "    diff[e]['abr_fev_3'] = \\\n",
    "    str(round(100 * (df_diff[e].loc[12, 'tot_venda'] / df_diff[e].loc[2, 'tot_venda'] - 1), 2)).replace('.', ',') + '%'\n",
    "    diff[e]['abr_fev_4'] = \\\n",
    "    str(round(100 * (df_diff[e].loc[13, 'tot_venda'] / df_diff[e].loc[3, 'tot_venda'] - 1), 2)).replace('.', ',') + '%'\n",
    "    \n",
    "    delta_abr_fev_5 = df_diff[e].loc[14, 'tot_venda'] / df_diff[e].loc[4, 'tot_venda'] - 1\n",
    "    diff[e]['abr_fev_5'] = \\\n",
    "    str(round(100 * (delta_abr_fev_5), 2)).replace('.', ',') + '%'\n",
    "    if delta_abr_fev_5 > 0:\n",
    "        colors.append('green')\n",
    "    elif delta_abr_fev_5 < 0:\n",
    "        colors.append('red')\n",
    "    else:\n",
    "        colors.append('black')\n",
    "\n",
    "    diff[e]['abr_mar_1'] = \\\n",
    "    str(round(100 * (df_diff[e].loc[10, 'tot_venda'] / df_diff[e].loc[5, 'tot_venda'] - 1), 2)).replace('.', ',') + '%'\n",
    "    diff[e]['abr_mar_2'] = \\\n",
    "    str(round(100 * (df_diff[e].loc[11, 'tot_venda'] / df_diff[e].loc[6, 'tot_venda'] - 1), 2)).replace('.', ',') + '%'\n",
    "    diff[e]['abr_mar_3'] = \\\n",
    "    str(round(100 * (df_diff[e].loc[12, 'tot_venda'] / df_diff[e].loc[7, 'tot_venda'] - 1), 2)).replace('.', ',') + '%'\n",
    "    diff[e]['abr_mar_4'] = \\\n",
    "    str(round(100 * (df_diff[e].loc[13, 'tot_venda'] / df_diff[e].loc[8, 'tot_venda'] - 1), 2)).replace('.', ',') + '%'\n",
    "    diff[e]['abr_mar_5'] = \\\n",
    "    str(round(100 * (df_diff[e].loc[14, 'tot_venda'] / df_diff[e].loc[9, 'tot_venda'] - 1), 2)).replace('.', ',') + '%'"
   ]
  },
  {
   "cell_type": "code",
   "execution_count": null,
   "metadata": {
    "ExecuteTime": {
     "end_time": "2020-04-07T18:19:13.510771Z",
     "start_time": "2020-04-07T18:19:00.181Z"
    },
    "hide_input": false,
    "scrolled": false
   },
   "outputs": [],
   "source": [
    "fig, ax = plt.subplots(27, 1, figsize=(20, 4 * len(df_estados_dict)))\n",
    "\n",
    "for i, e in enumerate(estados_ls):\n",
    "    df_estados_jan = df_estados_dict[e][df_estados_dict[e]['mes'] == 1].reset_index(drop=True)\n",
    "    df_estados_fev = df_estados_dict[e][df_estados_dict[e]['mes'] == 2].reset_index(drop=True)\n",
    "    df_estados_mar = df_estados_dict[e][df_estados_dict[e]['mes'] == 3].reset_index(drop=True)\n",
    "\n",
    "    sns.lineplot(x=range(n_dias), y='tot_venda', data=df_estados_jan, color='0.6', lw=3, ax=ax[i])\n",
    "#     sns.lineplot(x=range(n_dias), y='tot_venda', data=df_estados_fev, color='0.4', lw=3, ax=ax[i])\n",
    "    sns.lineplot(x=range(n_dias), y='tot_venda', data=df_estados_mar, lw=3, ax=ax[i])\n",
    "\n",
    "    ax[i].set_xlim(-0.5, n_dias)\n",
    "    ax[i].set_xticks(range(n_dias))\n",
    "    ax[i].set_xticklabels(df_estados_jan['dia_da_semana'])\n",
    "    ax[i].axvline(6.5, ymin=0, ymax=200, color='0', ls=':')\n",
    "    ax[i].axvline(13.5, ymin=0, ymax=200, color='0', ls=':')\n",
    "    ax[i].axvline(20.5, ymin=0, ymax=200, color='0', ls=':')\n",
    "    ax[i].axvline(27.5, ymin=0, ymax=200, color='0', ls=':')\n",
    "    ax[i].spines['right'].set_visible(False)\n",
    "    ax[i].spines['top'].set_visible(False)\n",
    "    ax[i].set_title(e.upper())\n",
    "#    ax[i].text(0, y_max, '1ª semana', size=15)\n",
    "#    ax[i].text(0, y_max-250, '\\u0394(mar-jan) = {}'.format(diff[e]['mar_jan_1']), size=15, color='red')\n",
    "#    ax[i].text(0, y_max-500, '\\u0394(mar-fev) = {}'.format(diff[e]['mar_fev_1']), size=15, color='green')\n",
    "#    ax[i].text(7, y_max, '2ª semana', size=15)\n",
    "#    ax[i].text(7, y_max-250, '\\u0394(mar-jan) = {}'.format(diff[e]['mar_jan_2']), size=15, color='red')\n",
    "#    ax[i].text(7, y_max-500, '\\u0394(mar-fev) = {}'.format(diff[e]['mar_fev_2']), size=15, color='green')\n",
    "    ax[i].set_ylabel('VENDAS TOTAIS', size=12)\n",
    "    ax[i].annotate('Jan/20', (n_dias-0.9, df_estados_jan.loc[n_dias-1, 'tot_venda']), size=12)\n",
    "#     ax[i].annotate('Fev/20', (n_dias-0.99, df_estados_fev.loc[n_dias-1, 'tot_venda']), size=12)\n",
    "    ax[i].annotate('Mar/20', (n_dias-0.9, df_estados_mar.loc[n_dias-1, 'tot_venda']), size=12)\n",
    "\n",
    "y_max = ax[0].get_ylim()[1]\n",
    "# ax[0].text(15, y_max, '3ª semana', size=15)\n",
    "# ax[0].text(15, y_max-400, '\\u0394(mar-jan) = {}'.format(diff['rj']['mar_jan_3']), size=15, color='red')\n",
    "ax[0].text(28, y_max, '\\u0394(mar-jan) = {}'.format(diff[estados[0]]['mar_jan_5']), size=15, color=colors[0])\n",
    "\n",
    "y_max = ax[1].get_ylim()[1]\n",
    "# ax[1].text(15, y_max, '3ª semana', size=15)\n",
    "# ax[1].text(15, y_max-150, '\\u0394(mar-jan) = {}'.format(diff['mg']['mar_jan_3']), size=15, color='red')\n",
    "ax[1].text(28, y_max, '\\u0394(mar-jan) = {}'.format(diff[estados[1]]['mar_jan_5']), size=15, color=colors[1])\n",
    "\n",
    "y_max = ax[2].get_ylim()[1]\n",
    "# ax[2].text(15, y_max, '3ª semana', size=15)\n",
    "# ax[2].text(15, y_max-250, '\\u0394(mar-jan) = {}'.format(diff['rn']['mar_jan_3']), size=15, color='green')\n",
    "ax[2].text(28, y_max, '\\u0394(mar-jan) = {}'.format(diff[estados[2]]['mar_jan_5']), size=15, color=colors[2])\n",
    "\n",
    "y_max = ax[3].get_ylim()[1]\n",
    "# ax[3].text(15, y_max, '3ª semana', size=15)\n",
    "# ax[3].text(15, y_max-250, '\\u0394(mar-jan) = {}'.format(diff['pe']['mar_jan_3']), size=15, color='green')\n",
    "ax[3].text(28, y_max, '\\u0394(mar-jan) = {}'.format(diff[estados[3]]['mar_jan_5']), size=15, color=colors[3])\n",
    "\n",
    "y_max = ax[4].get_ylim()[1]\n",
    "# ax[4].text(15, y_max, '3ª semana', size=15)\n",
    "# ax[4].text(15, y_max-250, '\\u0394(mar-jan) = {}'.format(diff['pb']['mar_jan_3']), size=15, color='green')\n",
    "ax[4].text(28, y_max, '\\u0394(mar-jan) = {}'.format(diff[estados[4]]['mar_jan_5']), size=15, color=colors[4])\n",
    "\n",
    "y_max = ax[5].get_ylim()[1]\n",
    "# ax[5].text(15, y_max, '3ª semana', size=15)\n",
    "# ax[5].text(15, y_max-400, '\\u0394(mar-jan) = {}'.format(diff['sp']['mar_jan_3']), size=15, color='red')\n",
    "ax[5].text(28, y_max, '\\u0394(mar-jan) = {}'.format(diff[estados[5]]['mar_jan_5']), size=15, color=colors[5])\n",
    "\n",
    "y_max = ax[6].get_ylim()[1]\n",
    "# ax[6].text(15, y_max, '3ª semana', size=15)\n",
    "# ax[6].text(15, y_max-250, '\\u0394(mar-jan) = {}'.format(diff['ce']['mar_jan_3']), size=15, color='red')\n",
    "ax[6].text(28, y_max, '\\u0394(mar-jan) = {}'.format(diff[estados[6]]['mar_jan_5']), size=15, color=colors[6])\n",
    "\n",
    "y_max = ax[7].get_ylim()[1]\n",
    "# ax[7].text(15, y_max, '3ª semana', size=15)\n",
    "# ax[7].text(15, y_max-400, '\\u0394(mar-jan) = {}'.format(diff['ba']['mar_jan_3']), size=15, color='green')\n",
    "ax[7].text(28, y_max, '\\u0394(mar-jan) = {}'.format(diff[estados[7]]['mar_jan_5']), size=15, color=colors[7])\n",
    "\n",
    "y_max = ax[8].get_ylim()[1]\n",
    "# ax[8].text(15, y_max, '3ª semana', size=15)\n",
    "# ax[8].text(15, y_max-1500, '\\u0394(mar-jan) = {}'.format(diff['pr']['mar_jan_3']), size=15, color='red')\n",
    "ax[8].text(28, y_max, '\\u0394(mar-jan) = {}'.format(diff[estados[8]]['mar_jan_5']), size=15, color=colors[8])\n",
    "\n",
    "y_max = ax[9].get_ylim()[1]\n",
    "# ax[9].text(15, y_max, '3ª semana', size=15)\n",
    "# ax[9].text(15, y_max-750, '\\u0394(mar-jan) = {}'.format(diff['rs']['mar_jan_3']), size=15, color='red')\n",
    "ax[9].text(28, y_max, '\\u0394(mar-jan) = {}'.format(diff[estados[9]]['mar_jan_5']), size=15, color=colors[9])\n",
    "\n",
    "y_max = ax[10].get_ylim()[1]\n",
    "# ax[10].text(15, y_max, '3ª semana', size=15)\n",
    "# ax[10].text(15, y_max-750, '\\u0394(mar-jan) = {}'.format(diff['ro']['mar_jan_3']), size=15, color='red')\n",
    "ax[10].text(28, y_max, '\\u0394(mar-jan) = {}'.format(diff[estados[10]]['mar_jan_5']), size=15, color=colors[10])\n",
    "\n",
    "y_max = ax[11].get_ylim()[1]\n",
    "# ax[11].text(15, y_max, '3ª semana', size=15)\n",
    "# ax[11].text(15, y_max-300, '\\u0394(mar-jan) = {}'.format(diff['go']['mar_jan_3']), size=15, color='green')\n",
    "ax[11].text(28, y_max, '\\u0394(mar-jan) = {}'.format(diff[estados[11]]['mar_jan_5']), size=15, color=colors[11])\n",
    "\n",
    "y_max = ax[12].get_ylim()[1]\n",
    "# ax[12].text(15, y_max, '3ª semana', size=15)\n",
    "# ax[12].text(15, y_max-250, '\\u0394(mar-jan) = {}'.format(diff['se']['mar_jan_3']), size=15, color='red')\n",
    "ax[12].text(28, y_max, '\\u0394(mar-jan) = {}'.format(diff[estados[12]]['mar_jan_5']), size=15, color=colors[12])\n",
    "\n",
    "y_max = ax[13].get_ylim()[1]\n",
    "# ax[13].text(15, y_max, '3ª semana', size=15)\n",
    "# ax[13].text(15, y_max-500, '\\u0394(mar-jan) = {}'.format(diff['sc']['mar_jan_3']), size=15, color='red')\n",
    "ax[13].text(28, y_max, '\\u0394(mar-jan) = {}'.format(diff[estados[13]]['mar_jan_5']), size=15, color=colors[13])\n",
    "\n",
    "y_max = ax[14].get_ylim()[1]\n",
    "# ax[14].text(15, y_max, '3ª semana', size=15)\n",
    "# ax[14].text(15, y_max-1000, '\\u0394(mar-jan) = {}'.format(diff['df']['mar_jan_3']), size=15, color='red')\n",
    "ax[14].text(28, y_max, '\\u0394(mar-jan) = {}'.format(diff[estados[14]]['mar_jan_5']), size=15, color=colors[14])\n",
    "\n",
    "y_max = ax[15].get_ylim()[1]\n",
    "# ax[15].text(15, y_max, '3ª semana', size=15)\n",
    "# ax[15].text(15, y_max-250, '\\u0394(mar-jan) = {}'.format(diff['es']['mar_jan_3']), size=15, color='red')\n",
    "ax[15].text(28, y_max, '\\u0394(mar-jan) = {}'.format(diff[estados[15]]['mar_jan_5']), size=15, color=colors[15])\n",
    "\n",
    "y_max = ax[16].get_ylim()[1]\n",
    "# ax[16].text(15, y_max, '3ª semana', size=15)\n",
    "# ax[16].text(15, y_max-400, '\\u0394(mar-jan) = {}'.format(diff['ms']['mar_jan_3']), size=15, color='green')\n",
    "ax[16].text(28, y_max, '\\u0394(mar-jan) = {}'.format(diff[estados[16]]['mar_jan_5']), size=15, color=colors[16])\n",
    "\n",
    "y_max = ax[17].get_ylim()[1]\n",
    "# ax[17].text(15, y_max, '3ª semana', size=15)\n",
    "# ax[17].text(15, y_max-400, '\\u0394(mar-jan) = {}'.format(diff['al']['mar_jan_3']), size=15, color='green')\n",
    "ax[17].text(28, y_max, '\\u0394(mar-jan) = {}'.format(diff[estados[17]]['mar_jan_5']), size=15, color=colors[17])\n",
    "\n",
    "y_max = ax[18].get_ylim()[1]\n",
    "# ax[18].text(15, y_max, '3ª semana', size=15)\n",
    "# ax[18].text(15, y_max-250, '\\u0394(mar-jan) = {}'.format(diff['pi']['mar_jan_3']), size=15, color='red')\n",
    "ax[18].text(28, y_max, '\\u0394(mar-jan) = {}'.format(diff[estados[18]]['mar_jan_5']), size=15, color=colors[18])\n",
    "\n",
    "y_max = ax[19].get_ylim()[1]\n",
    "# ax[19].text(15, y_max, '3ª semana', size=15)\n",
    "# ax[19].text(15, y_max-400, '\\u0394(mar-jan) = {}'.format(diff['mt']['mar_jan_3']), size=15, color='green')\n",
    "ax[19].text(28, y_max, '\\u0394(mar-jan) = {}'.format(diff[estados[19]]['mar_jan_5']), size=15, color=colors[19])\n",
    "\n",
    "y_max = ax[20].get_ylim()[1]\n",
    "# ax[20].text(15, y_max, '3ª semana', size=15)\n",
    "# ax[20].text(15, y_max-150, '\\u0394(mar-jan) = {}'.format(diff['pa']['mar_jan_3']), size=15, color='green')\n",
    "ax[20].text(28, y_max, '\\u0394(mar-jan) = {}'.format(diff[estados[20]]['mar_jan_5']), size=15, color=colors[20])\n",
    "\n",
    "y_max = ax[21].get_ylim()[1]\n",
    "# ax[21].text(15, y_max, '3ª semana', size=15)\n",
    "# ax[21].text(15, y_max-300, '\\u0394(mar-jan) = {}'.format(diff['ma']['mar_jan_3']), size=15, color='red')\n",
    "ax[21].text(28, y_max, '\\u0394(mar-jan) = {}'.format(diff[estados[21]]['mar_jan_5']), size=15, color=colors[21])\n",
    "\n",
    "y_max = ax[22].get_ylim()[1]\n",
    "# ax[22].text(15, y_max, '3ª semana', size=15)\n",
    "# ax[22].text(15, y_max-1000, '\\u0394(mar-jan) = {}'.format(diff['to']['mar_jan_3']), size=15, color='red')\n",
    "ax[22].text(28, y_max, '\\u0394(mar-jan) = {}'.format(diff[estados[22]]['mar_jan_5']), size=15, color=colors[22])\n",
    "\n",
    "y_max = ax[23].get_ylim()[1]\n",
    "# ax[23].text(15, y_max, '3ª semana', size=15)\n",
    "# ax[23].text(15, y_max-1000, '\\u0394(mar-jan) = {}'.format(diff['am']['mar_jan_3']), size=15, color='red')\n",
    "ax[23].text(28, y_max, '\\u0394(mar-jan) = {}'.format(diff[estados[23]]['mar_jan_5']), size=15, color=colors[23])\n",
    "\n",
    "y_max = ax[24].get_ylim()[1]\n",
    "# ax[24].text(15, y_max, '3ª semana', size=15)\n",
    "# ax[24].text(15, y_max-1000, '\\u0394(mar-jan) = {}'.format(diff['ac']['mar_jan_3']), size=15, color='red')\n",
    "ax[24].text(28, y_max, '\\u0394(mar-jan) = {}'.format(diff[estados[24]]['mar_jan_5']), size=15, color=colors[24])\n",
    "\n",
    "y_max = ax[25].get_ylim()[1]\n",
    "# ax[25].text(15, y_max, '3ª semana', size=15)\n",
    "# ax[25].text(15, y_max-1000, '\\u0394(mar-jan) = {}'.format(diff['ap']['mar_jan_3']), size=15, color='red')\n",
    "ax[25].text(28, y_max, '\\u0394(mar-jan) = {}'.format(diff[estados[25]]['mar_jan_5']), size=15, color=colors[25])\n",
    "\n",
    "y_max = ax[26].get_ylim()[1]\n",
    "# ax[26].text(15, y_max, '3ª semana', size=15)\n",
    "# ax[26].text(15, y_max-1000, '\\u0394(mar-jan) = {}'.format(diff['rr']['mar_jan_3']), size=15, color='red')\n",
    "ax[26].text(28, y_max, '\\u0394(mar-jan) = {}'.format(diff[estados[26]]['mar_jan_5']), size=15, color=colors[26])\n",
    "\n",
    "plt.subplots_adjust(hspace=0.4);"
   ]
  },
  {
   "cell_type": "markdown",
   "metadata": {},
   "source": [
    "# Estados x Capitais e Não-Capitais"
   ]
  },
  {
   "cell_type": "code",
   "execution_count": null,
   "metadata": {
    "ExecuteTime": {
     "end_time": "2020-04-07T18:19:13.512090Z",
     "start_time": "2020-04-07T18:19:00.248Z"
    }
   },
   "outputs": [],
   "source": [
    "df_temp = df_estados.groupby(['state', 'mes'])['tot_venda'].sum().reset_index()\n",
    "estados_relevantes = df_temp.loc[(df_temp['mes'] == 1) & (df_temp['tot_venda'] > 10**6), 'state'] # 1M+ volume de vendas em Jan"
   ]
  },
  {
   "cell_type": "code",
   "execution_count": null,
   "metadata": {
    "ExecuteTime": {
     "end_time": "2020-04-07T18:19:13.513183Z",
     "start_time": "2020-04-07T18:19:00.250Z"
    }
   },
   "outputs": [],
   "source": [
    "df_estados_cpt = pd.DataFrame(df[df['capital'] == True].groupby(['state', 'dia'])['tot_venda'].sum()).reset_index()\n",
    "df_estados_cpt['mes'] = df_estados_cpt['dia'].apply(lambda x: x.month)\n",
    "df_estados_cpt['dia_da_semana'] = df_estados_cpt['dia'].apply(lambda x: x.isoweekday())\n",
    "df_estados_cpt['semana'] = df_estados_cpt['dia'].apply(lambda x: x.isocalendar()[1])\n",
    "\n",
    "df_estados_ncpt = pd.DataFrame(df[df['capital'] == False].groupby(['state', 'dia'])['tot_venda'].sum()).reset_index()\n",
    "df_estados_ncpt['mes'] = df_estados_ncpt['dia'].apply(lambda x: x.month)\n",
    "df_estados_ncpt['dia_da_semana'] = df_estados_ncpt['dia'].apply(lambda x: x.isoweekday())\n",
    "df_estados_ncpt['semana'] = df_estados_ncpt['dia'].apply(lambda x: x.isocalendar()[1])"
   ]
  },
  {
   "cell_type": "code",
   "execution_count": null,
   "metadata": {
    "ExecuteTime": {
     "end_time": "2020-04-07T18:19:13.514650Z",
     "start_time": "2020-04-07T18:19:00.253Z"
    },
    "scrolled": true
   },
   "outputs": [],
   "source": [
    "df_estados_dict = {}\n",
    "df_diff = {}\n",
    "for e in estados_relevantes:\n",
    "    df_estados_dict[e] = {}\n",
    "    df_estados_dict[e]['cpt'] = df_estados_cpt[df_estados_cpt['state'] == e]\n",
    "    df_estados_dict[e]['ncpt'] = df_estados_ncpt[df_estados_ncpt['state'] == e]\n",
    "    \n",
    "    if len(df_estados_dict[e]['cpt']) < len(dias):\n",
    "        for d in dias:\n",
    "            dias_cpt = df_estados_dict[e]['cpt']['dia'].values\n",
    "            if d in dias_cpt:\n",
    "                continue\n",
    "            else:\n",
    "                ts = (d - np.datetime64('1970-01-01T00:00:00Z')) / np.timedelta64(1, 's')\n",
    "                dia_dt = dt.datetime.utcfromtimestamp(ts)\n",
    "                df_estados_dict[e]['cpt'] = df_estados_dict[e]['cpt'].append({'state': e,\n",
    "                                                                              'dia': dia_dt,\n",
    "                                                                              'tot_venda': 0,\n",
    "                                                                              'mes': dia_dt.month,\n",
    "                                                                              'dia_da_semana': dia_dt.isoweekday(),\n",
    "                                                                              'semana': dia_dt.isocalendar()[1]},\n",
    "                                                                             ignore_index=True)\n",
    "        df_estados_dict[e]['cpt'] = df_estados_dict[e]['cpt'].sort_values('dia').reset_index(drop=True)\n",
    "    else:\n",
    "        df_estados_dict[e]['cpt'] = df_estados_cpt[df_estados_cpt['state'] == e].reset_index(drop=True)\n",
    "        \n",
    "    if len(df_estados_dict[e]['ncpt']) < len(dias):\n",
    "        for d in dias:\n",
    "            dias_ncpt = df_estados_dict[e]['ncpt']['dia'].values\n",
    "            if d in dias_ncpt:\n",
    "                continue\n",
    "            else:\n",
    "                ts = (d - np.datetime64('1970-01-01T00:00:00Z')) / np.timedelta64(1, 's')\n",
    "                dia_dt = dt.datetime.utcfromtimestamp(ts)\n",
    "                df_estados_dict[e]['ncpt'] = df_estados_dict[e]['ncpt'].append({'state': e,\n",
    "                                                                                'dia': dia_dt,\n",
    "                                                                                'tot_venda': 0,\n",
    "                                                                                'mes': dia_dt.month,\n",
    "                                                                                'dia_da_semana': dia_dt.isoweekday(),\n",
    "                                                                                'semana': dia_dt.isocalendar()[1]},\n",
    "                                                                               ignore_index=True)\n",
    "        df_estados_dict[e]['ncpt'] = df_estados_dict[e]['ncpt'].sort_values('dia').reset_index(drop=True)\n",
    "    else:\n",
    "        df_estados_dict[e]['ncpt'] = df_estados_ncpt[df_estados_ncpt['state'] == e].reset_index(drop=True)\n",
    "    \n",
    "    df_estados_dict[e]['cpt']['dia_da_semana'] = df_estados_dict[e]['cpt']['dia_da_semana'].map(dia_da_semana_dict)\n",
    "    df_estados_dict[e]['cpt'].loc[df_estados_dict[e]['cpt']['mes'] == 2, 'semana'] -= 4\n",
    "    df_estados_dict[e]['cpt'].loc[df_estados_dict[e]['cpt']['mes'] == 3, 'semana'] -= 8\n",
    "    df_estados_dict[e]['cpt'].loc[df_estados_dict[e]['cpt']['mes'] == 4, 'semana'] -= 12\n",
    "    \n",
    "    df_temp_jan = df_estados_dict[e]['cpt'][df_estados_dict[e]['cpt']['mes'] == 1]\n",
    "    df_temp_jan2 = pd.concat([df_temp_jan.iloc[1:], df_temp_jan.iloc[:8]]).reset_index(drop=True)\n",
    "    df_temp_fev = df_estados_dict[e]['cpt'][df_estados_dict[e]['cpt']['mes'] == 2].reset_index(drop=True)\n",
    "    df_temp_fev2 = pd.concat([df_temp_fev, df_temp_fev.iloc[:7]]).reset_index(drop=True)\n",
    "    df_temp_mar = (df_estados_dict[e]['cpt'][(df_estados_dict[e]['cpt']['dia'] >= '2020-03-01') & \n",
    "                                             (df_estados_dict[e]['cpt']['dia'] <= '2020-04-04')].reset_index(drop=True))\n",
    "    \n",
    "    df_estados_dict[e]['cpt'] = pd.concat([df_temp_jan2, df_temp_fev2, df_temp_mar]).reset_index(drop=True)\n",
    "    \n",
    "    df_brasil = pd.concat([df_temp_jan2, df_temp_fev2, df_temp_mar]).reset_index(drop=True)\n",
    "    df_estados_dict[e]['cpt']['semana_mod'] = \\\n",
    "    np.tile(\n",
    "        np.append(\n",
    "            df_estados_dict[e]['cpt'].loc[df_estados_dict[e]['cpt']['mes'] == 3, 'semana'].values[1:], 5*[6]), 3) - 1\n",
    "    df_estados_dict[e]['cpt'].loc[df_estados_dict[e]['cpt']['mes'] == 4, 'mes'] = 3\n",
    "        \n",
    "    df_estados_dict[e]['ncpt']['dia_da_semana'] = df_estados_dict[e]['ncpt']['dia_da_semana'].map(dia_da_semana_dict)\n",
    "    df_estados_dict[e]['ncpt'].loc[df_estados_dict[e]['ncpt']['mes'] == 2, 'semana'] -= 4\n",
    "    df_estados_dict[e]['ncpt'].loc[df_estados_dict[e]['ncpt']['mes'] == 3, 'semana'] -= 8\n",
    "    df_estados_dict[e]['ncpt'].loc[df_estados_dict[e]['ncpt']['mes'] == 4, 'semana'] -= 12\n",
    "    \n",
    "    df_temp_jan = df_estados_dict[e]['ncpt'][df_estados_dict[e]['ncpt']['mes'] == 1]\n",
    "    df_temp_jan2 = pd.concat([df_temp_jan.iloc[1:], df_temp_jan.iloc[:8]]).reset_index(drop=True)\n",
    "    df_temp_fev = df_estados_dict[e]['ncpt'][df_estados_dict[e]['ncpt']['mes'] == 2].reset_index(drop=True)\n",
    "    df_temp_fev2 = pd.concat([df_temp_fev, df_temp_fev.iloc[:7]]).reset_index(drop=True)\n",
    "    df_temp_mar = (df_estados_dict[e]['ncpt'][(df_estados_dict[e]['ncpt']['dia'] >= '2020-03-01') & \n",
    "                                              (df_estados_dict[e]['ncpt']['dia'] <= '2020-04-04')].reset_index(drop=True))\n",
    "    \n",
    "    df_estados_dict[e]['ncpt'] = pd.concat([df_temp_jan2, df_temp_fev2, df_temp_mar]).reset_index(drop=True)\n",
    "    \n",
    "    df_estados_dict[e]['ncpt']['semana_mod'] = \\\n",
    "    np.tile(\n",
    "        np.append(\n",
    "            df_estados_dict[e]['ncpt'].loc[df_estados_dict[e]['ncpt']['mes'] == 3, 'semana'].values[1:], 5*[6]), 3) - 1\n",
    "    df_estados_dict[e]['ncpt'].loc[df_estados_dict[e]['ncpt']['mes'] == 4, 'mes'] = 3\n",
    "                   \n",
    "    df_diff[e] = {}\n",
    "    df_diff[e]['cpt'] = df_estados_dict[e]['cpt'].groupby(['mes', 'semana_mod'])['tot_venda'].sum().reset_index()\n",
    "    df_diff[e]['ncpt'] = df_estados_dict[e]['ncpt'].groupby(['mes', 'semana_mod'])['tot_venda'].sum().reset_index()"
   ]
  },
  {
   "cell_type": "code",
   "execution_count": null,
   "metadata": {
    "ExecuteTime": {
     "end_time": "2020-04-07T18:19:13.515984Z",
     "start_time": "2020-04-07T18:19:00.256Z"
    }
   },
   "outputs": [],
   "source": [
    "diff = {}\n",
    "for e in estados_relevantes:\n",
    "    diff[e] = {}\n",
    "    diff[e]['cpt'] = {}\n",
    "    \n",
    "    diff[e]['cpt']['mar-1 ~ jan-1'] = \\\n",
    "    str(round(100 * (df_diff[e]['cpt'].loc[10, 'tot_venda'] / df_diff[e]['cpt'].loc[0, 'tot_venda'] - 1), 2)).replace('.', ',') + '%'\n",
    "    diff[e]['cpt']['mar-2 ~ jan-2'] = \\\n",
    "    str(round(100 * (df_diff[e]['cpt'].loc[11, 'tot_venda'] / df_diff[e]['cpt'].loc[1, 'tot_venda'] - 1), 2)).replace('.', ',') + '%'\n",
    "    diff[e]['cpt']['mar-3 ~ jan-3'] = \\\n",
    "    str(round(100 * (df_diff[e]['cpt'].loc[12, 'tot_venda'] / df_diff[e]['cpt'].loc[2, 'tot_venda'] - 1), 2)).replace('.', ',') + '%'\n",
    "    diff[e]['cpt']['mar-4 ~ jan-4'] = \\\n",
    "    str(round(100 * (df_diff[e]['cpt'].loc[13, 'tot_venda'] / df_diff[e]['cpt'].loc[3, 'tot_venda'] - 1), 2)).replace('.', ',') + '%'\n",
    "    diff[e]['cpt']['mar-5 ~ jan-1'] = \\\n",
    "    str(round(100 * (df_diff[e]['cpt'].loc[14, 'tot_venda'] / df_diff[e]['cpt'].loc[4, 'tot_venda'] - 1), 2)).replace('.', ',') + '%'\n",
    "    \n",
    "    diff[e]['cpt']['mar-1 ~ fev-1'] = \\\n",
    "    str(round(100 * (df_diff[e]['cpt'].loc[10, 'tot_venda'] / df_diff[e]['cpt'].loc[5, 'tot_venda'] - 1), 2)).replace('.', ',') + '%'\n",
    "    diff[e]['cpt']['mar-2 ~ fev-2'] = \\\n",
    "    str(round(100 * (df_diff[e]['cpt'].loc[11, 'tot_venda'] / df_diff[e]['cpt'].loc[6, 'tot_venda'] - 1), 2)).replace('.', ',') + '%'\n",
    "    diff[e]['cpt']['mar-3 ~ fev-3'] = \\\n",
    "    str(round(100 * (df_diff[e]['cpt'].loc[12, 'tot_venda'] / df_diff[e]['cpt'].loc[7, 'tot_venda'] - 1), 2)).replace('.', ',') + '%'\n",
    "    diff[e]['cpt']['mar-4 ~ fev-4'] = \\\n",
    "    str(round(100 * (df_diff[e]['cpt'].loc[13, 'tot_venda'] / df_diff[e]['cpt'].loc[8, 'tot_venda'] - 1), 2)).replace('.', ',') + '%'\n",
    "    diff[e]['cpt']['mar-5 ~ fev-1'] = \\\n",
    "    str(round(100 * (df_diff[e]['cpt'].loc[14, 'tot_venda'] / df_diff[e]['cpt'].loc[9, 'tot_venda'] - 1), 2)).replace('.', ',') + '%'\n",
    "    \n",
    "    diff[e]['ncpt'] = {}\n",
    "    \n",
    "    diff[e]['ncpt']['mar-1 ~ jan-1'] = \\\n",
    "    str(round(100 * (df_diff[e]['ncpt'].loc[10, 'tot_venda'] / df_diff[e]['ncpt'].loc[0, 'tot_venda'] - 1), 2)).replace('.', ',') + '%'\n",
    "    diff[e]['ncpt']['mar-2 ~ jan-2'] = \\\n",
    "    str(round(100 * (df_diff[e]['ncpt'].loc[11, 'tot_venda'] / df_diff[e]['ncpt'].loc[1, 'tot_venda'] - 1), 2)).replace('.', ',') + '%'\n",
    "    diff[e]['ncpt']['mar-3 ~ jan-3'] = \\\n",
    "    str(round(100 * (df_diff[e]['ncpt'].loc[12, 'tot_venda'] / df_diff[e]['ncpt'].loc[2, 'tot_venda'] - 1), 2)).replace('.', ',') + '%'\n",
    "    diff[e]['ncpt']['mar-4 ~ jan-4'] = \\\n",
    "    str(round(100 * (df_diff[e]['ncpt'].loc[13, 'tot_venda'] / df_diff[e]['ncpt'].loc[3, 'tot_venda'] - 1), 2)).replace('.', ',') + '%'\n",
    "    diff[e]['ncpt']['mar-5 ~ jan-1'] = \\\n",
    "    str(round(100 * (df_diff[e]['ncpt'].loc[14, 'tot_venda'] / df_diff[e]['ncpt'].loc[4, 'tot_venda'] - 1), 2)).replace('.', ',') + '%'\n",
    "    \n",
    "    diff[e]['ncpt']['mar-1 ~ fev-1'] = \\\n",
    "    str(round(100 * (df_diff[e]['ncpt'].loc[10, 'tot_venda'] / df_diff[e]['ncpt'].loc[5, 'tot_venda'] - 1), 2)).replace('.', ',') + '%'\n",
    "    diff[e]['ncpt']['mar-2 ~ fev-2'] = \\\n",
    "    str(round(100 * (df_diff[e]['ncpt'].loc[11, 'tot_venda'] / df_diff[e]['ncpt'].loc[6, 'tot_venda'] - 1), 2)).replace('.', ',') + '%'\n",
    "    diff[e]['ncpt']['mar-3 ~ fev-3'] = \\\n",
    "    str(round(100 * (df_diff[e]['ncpt'].loc[12, 'tot_venda'] / df_diff[e]['ncpt'].loc[7, 'tot_venda'] - 1), 2)).replace('.', ',') + '%'\n",
    "    diff[e]['ncpt']['mar-4 ~ fev-4'] = \\\n",
    "    str(round(100 * (df_diff[e]['ncpt'].loc[13, 'tot_venda'] / df_diff[e]['ncpt'].loc[8, 'tot_venda'] - 1), 2)).replace('.', ',') + '%'\n",
    "    diff[e]['ncpt']['mar-5 ~ fev-1'] = \\\n",
    "    str(round(100 * (df_diff[e]['ncpt'].loc[14, 'tot_venda'] / df_diff[e]['ncpt'].loc[9, 'tot_venda'] - 1), 2)).replace('.', ',') + '%'"
   ]
  },
  {
   "cell_type": "code",
   "execution_count": null,
   "metadata": {
    "ExecuteTime": {
     "end_time": "2020-04-07T18:19:13.516718Z",
     "start_time": "2020-04-07T18:19:00.259Z"
    }
   },
   "outputs": [],
   "source": [
    "df_delta = pd.DataFrame()\n",
    "df = []\n",
    "for e in estados_relevantes:\n",
    "    df.append(pd.DataFrame(diff[e]).T)"
   ]
  },
  {
   "cell_type": "markdown",
   "metadata": {},
   "source": [
    "## Semana(Março) x Semana(Fevereiro) e Semana(Janeiro)"
   ]
  },
  {
   "cell_type": "code",
   "execution_count": null,
   "metadata": {
    "ExecuteTime": {
     "end_time": "2020-04-07T18:19:13.518351Z",
     "start_time": "2020-04-07T18:19:00.327Z"
    }
   },
   "outputs": [],
   "source": [
    "def color_negative_red(value):\n",
    "    if value.startswith('-') and value.endswith('%'):\n",
    "        color = 'red'\n",
    "    elif value.endswith('%'):\n",
    "        color = 'green'\n",
    "    else:\n",
    "        color = 'black'\n",
    "        \n",
    "    return 'color: %s' % color"
   ]
  },
  {
   "cell_type": "code",
   "execution_count": null,
   "metadata": {
    "ExecuteTime": {
     "end_time": "2020-04-07T18:19:13.519517Z",
     "start_time": "2020-04-07T18:19:00.330Z"
    }
   },
   "outputs": [],
   "source": [
    "estados = ['ES', 'MG', 'RJ', 'SP',\n",
    "           'PR', 'RS', 'SC',\n",
    "           'DF', 'GO',\n",
    "           'AL', 'BA', 'CE', 'MA', 'PB', 'PE', 'SE', 'RN']\n",
    "\n",
    "cpt = ['cpt', 'ncpt']\n",
    "\n",
    "regioes = ['SE']*8 + ['S']*6 + ['CO']*4 + ['NE']*16\n",
    "\n",
    "sorted_index = list(itertools.product(estados, cpt))"
   ]
  },
  {
   "cell_type": "code",
   "execution_count": null,
   "metadata": {
    "ExecuteTime": {
     "end_time": "2020-04-07T18:19:13.520594Z",
     "start_time": "2020-04-07T18:19:00.332Z"
    },
    "scrolled": false
   },
   "outputs": [],
   "source": [
    "df_delta_semanas = pd.concat(df, axis=0, keys=[e.upper() for e in estados_relevantes])\n",
    "df_delta_semanas.replace(['inf%', 'nan%'], '-', inplace=True)\n",
    "df_delta_semanas.replace(re.compile('^-?\\d{5,},\\d{,2}%'), '-', inplace=True)\n",
    "df_delta_semanas = df_delta_semanas.reindex(sorted_index)\n",
    "df_delta_semanas.style.applymap(color_negative_red)"
   ]
  },
  {
   "cell_type": "markdown",
   "metadata": {},
   "source": [
    "## Dia(Março) x Dia(Março)-7"
   ]
  },
  {
   "cell_type": "code",
   "execution_count": null,
   "metadata": {
    "ExecuteTime": {
     "end_time": "2020-04-07T18:19:13.522055Z",
     "start_time": "2020-04-07T18:19:00.408Z"
    },
    "scrolled": true
   },
   "outputs": [],
   "source": [
    "dias_mar = pd.DataFrame(\n",
    "    df_estados.loc[df_estados['mes'] >= 3, 'dia'].unique(), columns=['dia']).sort_values('dia').reset_index(drop=True)\n",
    "dias_mar_split = pd.DataFrame(zip(dias_mar.loc[:len(dias_mar)-7, 'dia'], dias_mar.loc[7:, 'dia']), columns=['dia_0', 'dia_1'])\n",
    "diff_dict = {}\n",
    "diff = []\n",
    "for e in estados_relevantes:\n",
    "    df_mar_cpt = df_estados_dict[e]['cpt'][df_estados_dict[e]['cpt']['mes'] == 3].reset_index(drop=True)\n",
    "    if len(df_mar_cpt) < len(dias_mar):\n",
    "        df_mar_cpt = dias_mar.merge(df_mar_cpt, on='dia', how='left')\n",
    "        df_mar_cpt.loc[df_mar_cpt['state'].isnull(), 'state'] = e\n",
    "        df_mar_cpt.loc[df_mar_cpt['tot_venda'].isnull(), 'tot_venda'] = 0\n",
    "        ts = \\\n",
    "        (df_mar_cpt.loc[df_mar_cpt['dia_da_semana'].isnull(), 'dia'] - np.datetime64('1970-01-01T00:00:00Z')) / np.timedelta64(1, 's')\n",
    "        dia_dt = ts.apply(lambda x: dt.datetime.utcfromtimestamp(x))\n",
    "        df_mar_cpt.loc[df_mar_cpt['mes'].isnull(), 'mes'] = dia_dt.apply(lambda x: x.month)\n",
    "        df_mar_cpt.loc[df_mar_cpt['dia_da_semana'].isnull(), 'dia_da_semana'] = dia_dt.apply(lambda x: x.isoweekday())\n",
    "        df_mar_cpt.loc[df_mar_cpt['semana'].isnull(), 'semana'] = dia_dt.apply(lambda x: x.isocalendar()[1])\n",
    "        \n",
    "    df_mar_ncpt = df_estados_dict[e]['ncpt'][df_estados_dict[e]['ncpt']['mes'] == 3].reset_index(drop=True)\n",
    "    if len(df_mar_ncpt) < len(dias_mar):\n",
    "        df_mar_ncpt = dias_mar.merge(df_mar_ncpt, on='dia', how='left')\n",
    "        df_mar_ncpt.loc[df_mar_ncpt['state'].isnull(), 'state'] = e\n",
    "        df_mar_ncpt.loc[df_mar_ncpt['tot_venda'].isnull(), 'tot_venda'] = 0\n",
    "        ts = \\\n",
    "        (df_mar_ncpt.loc[df_mar_ncpt['dia_da_semana'].isnull(), 'dia'] - np.datetime64('1970-01-01T00:00:00Z')) / np.timedelta64(1, 's')\n",
    "        dia_dt = ts.apply(lambda x: dt.datetime.utcfromtimestamp(x))\n",
    "        df_mar_ncpt.loc[df_mar_ncpt['mes'].isnull(), 'mes'] = dia_dt.apply(lambda x: x.month)\n",
    "        df_mar_ncpt.loc[df_mar_ncpt['dia_da_semana'].isnull(), 'dia_da_semana'] = dia_dt.apply(lambda x: x.isoweekday())\n",
    "        df_mar_ncpt.loc[df_mar_ncpt['semana'].isnull(), 'semana'] = dia_dt.apply(lambda x: x.isocalendar()[1])\n",
    "        \n",
    "    diff_dict[e] = []\n",
    "    for i in range(7):\n",
    "        df_temp_cpt = df_mar_cpt[df_mar_cpt.index % 7 == i].reset_index(drop=True)\n",
    "        df_temp_ncpt = df_mar_ncpt[df_mar_ncpt.index % 7 == i].reset_index(drop=True)\n",
    "        diff_ls_cpt = []\n",
    "        diff_ls_ncpt = []\n",
    "        for j in range(1, len(df_temp_cpt)):\n",
    "            (diff_ls_cpt.append(str(round(100 * (df_temp_cpt.loc[j, 'tot_venda'] / df_temp_cpt.loc[j-1, 'tot_venda'] - 1), 2))\n",
    "                                .replace('.', ',') + '%'))\n",
    "            (diff_ls_ncpt.append(str(round(100 * (df_temp_ncpt.loc[j, 'tot_venda'] / df_temp_ncpt.loc[j-1, 'tot_venda'] - 1), 2))\n",
    "                                .replace('.', ',') + '%'))\n",
    "        diff_dict[e] += list(zip(df_temp_cpt.loc[1:len(df_temp_cpt), 'dia'], diff_ls_cpt, diff_ls_ncpt))\n",
    "    (diff.append(\n",
    "        pd.DataFrame(\n",
    "            sorted(diff_dict[e], key=lambda x: x[0]), columns=['dia', 'cpt', 'ncpt']).drop('dia', axis=1).T))"
   ]
  },
  {
   "cell_type": "code",
   "execution_count": null,
   "metadata": {
    "ExecuteTime": {
     "end_time": "2020-04-07T18:19:13.523274Z",
     "start_time": "2020-04-07T18:19:00.411Z"
    }
   },
   "outputs": [],
   "source": [
    "df_delta_dias = pd.concat(diff, axis=0, keys=[e.upper() for e in estados_relevantes])\n",
    "\n",
    "dias = (dias_mar_split['dia_0'].astype(str).apply(lambda x: x[-5:]).str.cat(\n",
    "    dias_mar_split['dia_1'].astype(str).apply(lambda x: x[-5:]), sep=' ~ '))\n",
    "\n",
    "df_delta_dias.columns = dias\n",
    "\n",
    "df_delta_dias.rename_axis('', axis=1, inplace=True)\n",
    "df_delta_dias.replace(['inf%', 'nan%'], '-', inplace=True)\n",
    "df_delta_dias.replace(re.compile('^-?\\d{5,},\\d{,2}%'), '-', inplace=True)\n",
    "df_delta_dias = df_delta_dias.reindex(sorted_index)\n",
    "df_delta_dias.style.applymap(color_negative_red)"
   ]
  },
  {
   "cell_type": "markdown",
   "metadata": {},
   "source": [
    "## Dia(Março) x Dia(Janeiro)"
   ]
  },
  {
   "cell_type": "code",
   "execution_count": null,
   "metadata": {
    "ExecuteTime": {
     "end_time": "2020-04-07T18:19:13.525081Z",
     "start_time": "2020-04-07T18:19:00.493Z"
    }
   },
   "outputs": [],
   "source": [
    "df_jan_cpt = {}\n",
    "df_jan_ncpt = {}\n",
    "df_mar_cpt = {}\n",
    "df_mar_ncpt = {}\n",
    "\n",
    "for e in estados_relevantes:\n",
    "    df_jan_cpt[e] = (df_estados_dict[e]['cpt'][df_estados_dict[e]['cpt']['mes'] == 1].reset_index(drop=True)\n",
    "                     .drop(['mes', 'state', 'dia_da_semana', 'semana', 'semana_mod'], axis=1))\n",
    "    df_jan_ncpt[e] = (df_estados_dict[e]['ncpt'][df_estados_dict[e]['ncpt']['mes'] == 1].reset_index(drop=True)\n",
    "                      .drop(['mes', 'state', 'dia_da_semana', 'semana', 'semana_mod'], axis=1))\n",
    "    df_mar_cpt[e] = (df_estados_dict[e]['cpt'][df_estados_dict[e]['cpt']['mes'] == 3].reset_index(drop=True)\n",
    "                     .drop(['mes', 'state', 'dia_da_semana', 'semana', 'semana_mod'], axis=1))\n",
    "    df_mar_ncpt[e] = (df_estados_dict[e]['ncpt'][df_estados_dict[e]['ncpt']['mes'] == 3].reset_index(drop=True)\n",
    "                      .drop(['mes', 'state', 'dia_da_semana', 'semana', 'semana_mod'], axis=1))"
   ]
  },
  {
   "cell_type": "code",
   "execution_count": null,
   "metadata": {
    "ExecuteTime": {
     "end_time": "2020-04-07T18:19:13.526583Z",
     "start_time": "2020-04-07T18:19:00.496Z"
    }
   },
   "outputs": [],
   "source": [
    "dias_jan = df_jan_cpt['rj']['dia']\n",
    "dias_mar = df_mar_cpt['rj']['dia']\n",
    "dias_jan_mar = pd.DataFrame(zip(dias_jan, dias_mar), columns=['dia_jan', 'dia_mar'])"
   ]
  },
  {
   "cell_type": "code",
   "execution_count": null,
   "metadata": {
    "ExecuteTime": {
     "end_time": "2020-04-07T18:19:13.527977Z",
     "start_time": "2020-04-07T18:19:00.499Z"
    }
   },
   "outputs": [],
   "source": [
    "df_jan_mar_cpt = {}\n",
    "df_jan_mar_ncpt = {}\n",
    "df_jan_mar = {}\n",
    "for e in estados_relevantes:\n",
    "    df_jan_mar_cpt[e] = df_jan_cpt[e].merge(df_mar_cpt[e], left_index=True, right_index=True, suffixes=('_jan', '_mar'))\n",
    "    \n",
    "    df_jan_mar_cpt[e].loc[df_jan_mar_cpt[e].isnull().any(axis=1), 'dia_mar'] = \\\n",
    "    dias_jan_mar.loc[dias_jan_mar['dia_jan'] == '2020-01-26', 'dia_mar'].values\n",
    "    df_jan_mar_cpt[e].loc[df_jan_mar_cpt[e].isnull().any(axis=1), 'tot_venda_mar'] = 0\n",
    "    \n",
    "    df_jan_mar_cpt[e]['cpt'] = (round(100 * (df_jan_mar_cpt[e]['tot_venda_mar'] / df_jan_mar_cpt[e]['tot_venda_jan'] - 1), 2)\n",
    "                                .astype(str)\n",
    "                                .str.replace('.', ',') + '%')\n",
    "    df_jan_mar_cpt[e]['dias_jan_mar'] = (df_jan_mar_cpt[e]['dia_jan'].astype(str).apply(lambda x: x[-5:]).str.cat(\n",
    "        df_jan_mar_cpt[e]['dia_mar'].astype(str).apply(lambda x: x[-5:]), sep=' ~ '))\n",
    "    df_jan_mar_cpt[e] = df_jan_mar_cpt[e][['dias_jan_mar', 'cpt']].set_index('dias_jan_mar').T\n",
    "    \n",
    "    \n",
    "    df_jan_mar_ncpt[e] = df_jan_ncpt[e].merge(df_mar_ncpt[e], left_index=True, right_index=True, suffixes=('_jan', '_mar'))\n",
    "    \n",
    "    df_jan_mar_ncpt[e].loc[df_jan_mar_ncpt[e].isnull().any(axis=1), 'dia_mar'] = \\\n",
    "    dias_jan_mar.loc[dias_jan_mar['dia_jan'] == '2020-01-26', 'dia_mar'].values\n",
    "    df_jan_mar_ncpt[e].loc[df_jan_mar_ncpt[e].isnull().any(axis=1), 'tot_venda_mar'] = 0\n",
    "    \n",
    "    df_jan_mar_ncpt[e]['ncpt'] = (round(100 * (df_jan_mar_ncpt[e]['tot_venda_mar'] / df_jan_mar_ncpt[e]['tot_venda_jan'] - 1), 2)\n",
    "                                  .astype(str)\n",
    "                                  .str.replace('.', ',') + '%')\n",
    "    df_jan_mar_ncpt[e]['dias_jan_mar'] = (df_jan_mar_ncpt[e]['dia_jan'].astype(str).apply(lambda x: x[-5:]).str.cat(\n",
    "        df_jan_mar_ncpt[e]['dia_mar'].astype(str).apply(lambda x: x[-5:]), sep=' ~ '))\n",
    "    df_jan_mar_ncpt[e] = df_jan_mar_ncpt[e][['dias_jan_mar', 'ncpt']].set_index('dias_jan_mar').T\n",
    "    \n",
    "    df_jan_mar[e.upper()] = pd.concat([df_jan_mar_cpt[e], df_jan_mar_ncpt[e]], axis=0)\n",
    "    df_jan_mar[e.upper()].rename_axis('', axis=1, inplace=True)\n",
    "    df_jan_mar[e.upper()].replace(['inf%', 'nan%'], '-', inplace=True)\n",
    "    df_jan_mar[e.upper()].replace(re.compile('^-?\\d{5,},\\d{,2}%'), '-', inplace=True)"
   ]
  },
  {
   "cell_type": "code",
   "execution_count": null,
   "metadata": {
    "ExecuteTime": {
     "end_time": "2020-04-07T18:19:13.530310Z",
     "start_time": "2020-04-07T18:19:00.502Z"
    }
   },
   "outputs": [],
   "source": [
    "df_delta_jan_mar = pd.concat(df_jan_mar, axis=0)\n",
    "df_delta_jan_mar = df_delta_jan_mar.reindex(sorted_index)\n",
    "df_delta_jan_mar.style.applymap(color_negative_red)"
   ]
  }
 ],
 "metadata": {
  "hide_input": false,
  "kernelspec": {
   "display_name": "Python 3",
   "language": "python",
   "name": "python3"
  },
  "language_info": {
   "codemirror_mode": {
    "name": "ipython",
    "version": 3
   },
   "file_extension": ".py",
   "mimetype": "text/x-python",
   "name": "python",
   "nbconvert_exporter": "python",
   "pygments_lexer": "ipython3",
   "version": "3.8.2"
  },
  "latex_envs": {
   "LaTeX_envs_menu_present": true,
   "autoclose": false,
   "autocomplete": true,
   "bibliofile": "biblio.bib",
   "cite_by": "apalike",
   "current_citInitial": 1,
   "eqLabelWithNumbers": true,
   "eqNumInitial": 1,
   "hotkeys": {
    "equation": "Ctrl-E",
    "itemize": "Ctrl-I"
   },
   "labels_anchors": false,
   "latex_user_defs": false,
   "report_style_numbering": false,
   "user_envs_cfg": false
  },
  "toc": {
   "base_numbering": 1,
   "nav_menu": {},
   "number_sections": true,
   "sideBar": true,
   "skip_h1_title": false,
   "title_cell": "Table of Contents",
   "title_sidebar": "Contents",
   "toc_cell": false,
   "toc_position": {},
   "toc_section_display": true,
   "toc_window_display": false
  },
  "varInspector": {
   "cols": {
    "lenName": 16,
    "lenType": 16,
    "lenVar": 40
   },
   "kernels_config": {
    "python": {
     "delete_cmd_postfix": "",
     "delete_cmd_prefix": "del ",
     "library": "var_list.py",
     "varRefreshCmd": "print(var_dic_list())"
    },
    "r": {
     "delete_cmd_postfix": ") ",
     "delete_cmd_prefix": "rm(",
     "library": "var_list.r",
     "varRefreshCmd": "cat(var_dic_list()) "
    }
   },
   "types_to_exclude": [
    "module",
    "function",
    "builtin_function_or_method",
    "instance",
    "_Feature"
   ],
   "window_display": false
  }
 },
 "nbformat": 4,
 "nbformat_minor": 4
}
